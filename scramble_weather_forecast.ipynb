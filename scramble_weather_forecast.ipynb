{
 "cells": [
  {
   "cell_type": "markdown",
   "metadata": {},
   "source": [
    "## Get Weather Prediction"
   ]
  },
  {
   "cell_type": "code",
   "execution_count": 13,
   "metadata": {},
   "outputs": [],
   "source": [
    "import requests as rq\n",
    "from bs4 import BeautifulSoup as BS\n",
    "import numpy as np\n",
    "import os"
   ]
  },
  {
   "cell_type": "code",
   "execution_count": 182,
   "metadata": {},
   "outputs": [],
   "source": [
    "# Houston\n",
    "url = \"https://forecast.weather.gov/MapClick.php?w0=t&w3=sfcwind&w4=sky&w5=pop&w6=rh&w7=rain&w8=thunder&w9=snow&w10=fzg&w11=sleet&AheadHour=0&Submit=Submit&&FcstType=digital&textField1=29.7606&textField2=-95.3697&site=all\"\n",
    "# Dallas\n",
    "# url = \n",
    "# San Antonio\n",
    "# url = \n",
    "page = rq.get(url)"
   ]
  },
  {
   "cell_type": "code",
   "execution_count": 183,
   "metadata": {},
   "outputs": [],
   "source": [
    "html = BS(page.content, 'html.parser')"
   ]
  },
  {
   "cell_type": "code",
   "execution_count": 188,
   "metadata": {},
   "outputs": [
    {
     "data": {
      "text/plain": [
       "<tr align=\"center\"><td align=\"left\" class=\"date\"><font size=\"1\"><b>Hour (CDT)</b></font></td><td class=\"date\"><font size=\"1\"><b>23</b></font></td><td class=\"date\"><font size=\"1\"><b>00</b></font></td><td class=\"date\"><font size=\"1\"><b>01</b></font></td><td class=\"date\"><font size=\"1\"><b>02</b></font></td><td class=\"date\"><font size=\"1\"><b>03</b></font></td><td class=\"date\"><font size=\"1\"><b>04</b></font></td><td class=\"date\"><font size=\"1\"><b>05</b></font></td><td class=\"date\"><font size=\"1\"><b>06</b></font></td><td class=\"date\"><font size=\"1\"><b>07</b></font></td><td class=\"date\"><font size=\"1\"><b>08</b></font></td><td class=\"date\"><font size=\"1\"><b>09</b></font></td><td class=\"date\"><font size=\"1\"><b>10</b></font></td><td class=\"date\"><font size=\"1\"><b>11</b></font></td><td class=\"date\"><font size=\"1\"><b>12</b></font></td><td class=\"date\"><font size=\"1\"><b>13</b></font></td><td class=\"date\"><font size=\"1\"><b>14</b></font></td><td class=\"date\"><font size=\"1\"><b>15</b></font></td><td class=\"date\"><font size=\"1\"><b>16</b></font></td><td class=\"date\"><font size=\"1\"><b>17</b></font></td><td class=\"date\"><font size=\"1\"><b>18</b></font></td><td class=\"date\"><font size=\"1\"><b>19</b></font></td><td class=\"date\"><font size=\"1\"><b>20</b></font></td><td class=\"date\"><font size=\"1\"><b>21</b></font></td><td class=\"date\"><font size=\"1\"><b>22</b></font></td></tr>"
      ]
     },
     "execution_count": 188,
     "metadata": {},
     "output_type": "execute_result"
    }
   ],
   "source": [
    "date_tr = html.find_all('hr')[1].parent.parent.findNext('tr').findNext('tr')\n",
    "date_tr"
   ]
  },
  {
   "cell_type": "code",
   "execution_count": 196,
   "metadata": {},
   "outputs": [],
   "source": [
    "# Get hours.\n",
    "hours = []\n",
    "for item in html.find_all('table')[7].find_all('tr')[2].find_all('td', class_='date'):\n",
    "    hours.append(item.find('b').get_text())\n",
    "    \n",
    "# The second row.\n",
    "date_tr = html.find_all('hr')[2].parent.parent.findNext('tr').findNext('tr')\n",
    "tds = date_tr.find_all('td')\n",
    "for ind in np.arange(1, len(tds)):\n",
    "    hours.append(tds[ind].get_text())\n",
    "    \n",
    "hours = hours[1:]"
   ]
  },
  {
   "cell_type": "code",
   "execution_count": 197,
   "metadata": {},
   "outputs": [
    {
     "data": {
      "text/plain": [
       "['23',\n",
       " '00',\n",
       " '01',\n",
       " '02',\n",
       " '03',\n",
       " '04',\n",
       " '05',\n",
       " '06',\n",
       " '07',\n",
       " '08',\n",
       " '09',\n",
       " '10',\n",
       " '11',\n",
       " '12',\n",
       " '13',\n",
       " '14',\n",
       " '15',\n",
       " '16',\n",
       " '17',\n",
       " '18',\n",
       " '19',\n",
       " '20',\n",
       " '21',\n",
       " '22',\n",
       " '23',\n",
       " '00',\n",
       " '01',\n",
       " '02',\n",
       " '03',\n",
       " '04',\n",
       " '05',\n",
       " '06',\n",
       " '07',\n",
       " '08',\n",
       " '09',\n",
       " '10',\n",
       " '11',\n",
       " '12',\n",
       " '13',\n",
       " '14',\n",
       " '15',\n",
       " '16',\n",
       " '17',\n",
       " '18',\n",
       " '19',\n",
       " '20',\n",
       " '21',\n",
       " '22']"
      ]
     },
     "execution_count": 197,
     "metadata": {},
     "output_type": "execute_result"
    }
   ],
   "source": [
    "hours"
   ]
  },
  {
   "cell_type": "code",
   "execution_count": 198,
   "metadata": {},
   "outputs": [],
   "source": [
    "# Get temperatures\n",
    "temps = []\n",
    "for item in html.find_all('table')[7].find_all('tr')[3].find_all('td'):\n",
    "    temps.append(item.get_text())\n",
    "    \n",
    "# The second row.\n",
    "temps_tr = date_tr.findNext('tr')\n",
    "tds = temps_tr.find_all('td')\n",
    "for ind in np.arange(1, len(tds)):\n",
    "    temps.append(tds[ind].get_text())\n",
    "    \n",
    "temps = temps[1:]"
   ]
  },
  {
   "cell_type": "code",
   "execution_count": 199,
   "metadata": {},
   "outputs": [],
   "source": [
    "assert(len(hours) == len(temps))"
   ]
  },
  {
   "cell_type": "code",
   "execution_count": 200,
   "metadata": {},
   "outputs": [
    {
     "data": {
      "text/plain": [
       "['62',\n",
       " '60',\n",
       " '60',\n",
       " '59',\n",
       " '59',\n",
       " '59',\n",
       " '59',\n",
       " '62',\n",
       " '63',\n",
       " '65',\n",
       " '68',\n",
       " '71',\n",
       " '74',\n",
       " '76',\n",
       " '78',\n",
       " '79',\n",
       " '79',\n",
       " '78',\n",
       " '76',\n",
       " '75',\n",
       " '73',\n",
       " '73',\n",
       " '72']"
      ]
     },
     "execution_count": 200,
     "metadata": {},
     "output_type": "execute_result"
    }
   ],
   "source": [
    "temps[25:]"
   ]
  },
  {
   "cell_type": "code",
   "execution_count": 143,
   "metadata": {},
   "outputs": [],
   "source": [
    "# Get temperatures for the next day.\n",
    "ind = 0\n",
    "while hours[ind] != '01':\n",
    "    ind += 1\n",
    "start = ind\n",
    "ind += 1\n",
    "\n",
    "while hours[ind] != '01':\n",
    "    ind += 1\n",
    "end = ind"
   ]
  },
  {
   "cell_type": "code",
   "execution_count": 144,
   "metadata": {},
   "outputs": [],
   "source": [
    "def print_list(l):\n",
    "    print('[',end=\"\")\n",
    "    print(l[0],end=\"\")\n",
    "    for ind in np.arange(1,len(l)):\n",
    "        print(','+str(l[ind]),end='')\n",
    "    print(']')"
   ]
  },
  {
   "cell_type": "code",
   "execution_count": 145,
   "metadata": {},
   "outputs": [
    {
     "name": "stdout",
     "output_type": "stream",
     "text": [
      "[1,2,3,4,5,6,7,8,9,10,11,12,13,14,15,16,17,18,19,20,21,22,23,0]\n",
      "[63,61,60,59,58,59,58,58,61,63,66,69,70,72,75,75,74,72,66,65,65,65,65,64]\n"
     ]
    }
   ],
   "source": [
    "hours = hours[start:end]\n",
    "hours = [int(x) for x in hours]\n",
    "temps = temps[start:end]\n",
    "temps = [int(x) for x in temps]\n",
    "print_list(hours)\n",
    "print_list(temps)"
   ]
  },
  {
   "cell_type": "markdown",
   "metadata": {},
   "source": [
    "## Get Historic Temperature"
   ]
  },
  {
   "cell_type": "code",
   "execution_count": 167,
   "metadata": {},
   "outputs": [],
   "source": [
    "# Houston\n",
    "url = \"https://w1.weather.gov/data/obhistory/KHOU.html\"\n",
    "# Dallas\n",
    "# url = \n",
    "# San Antonio\n",
    "# url = \n",
    "page = rq.get(url)\n",
    "html = BS(page.content, 'html.parser')"
   ]
  },
  {
   "cell_type": "code",
   "execution_count": 175,
   "metadata": {},
   "outputs": [],
   "source": [
    "trs = html.find_all('table')[3].find_all('tr')"
   ]
  },
  {
   "cell_type": "code",
   "execution_count": 176,
   "metadata": {},
   "outputs": [],
   "source": [
    "date = []\n",
    "times = []\n",
    "temps = []\n",
    "for item in trs[4:-3]:\n",
    "    tds = item.find_all('td')\n",
    "    date.append(int(tds[0].get_text()))\n",
    "    time = tds[1].get_text().split(':')\n",
    "    # Make sure the minutes are larger than 30\n",
    "    assert(int(time[1]) > 30)\n",
    "    # Make sure current time is one hour forward\n",
    "    hour = int(time[0])\n",
    "    hour += 1\n",
    "    if hour == 24:\n",
    "        hour = 0\n",
    "    if len(times) > 0:\n",
    "        assert((hour+1 == times[-1]) or (hour == 23 and times[-1] == 0))\n",
    "    times.append(hour)\n",
    "    temps.append(tds[6].get_text())"
   ]
  },
  {
   "cell_type": "code",
   "execution_count": 180,
   "metadata": {},
   "outputs": [],
   "source": [
    "assert(len(date) == len(times) and len(times) == len(temps))"
   ]
  },
  {
   "cell_type": "markdown",
   "metadata": {},
   "source": [
    "## Crawl temperatures from weather.com"
   ]
  },
  {
   "cell_type": "markdown",
   "metadata": {},
   "source": [
    "Not easy to crawl"
   ]
  },
  {
   "cell_type": "code",
   "execution_count": 21,
   "metadata": {},
   "outputs": [
    {
     "name": "stdout",
     "output_type": "stream",
     "text": [
      "['39', '38', '37', '37', '36', '36', '36', '36', '38', '41', '44', '46', '48', '50', '51', '51', '50', '48', '47', '46', '45', '44', '42']\n"
     ]
    }
   ],
   "source": [
    "with open('electricity_data/NW/historic data/seattle_ibm.txt', 'r') as file:\n",
    "    forecast = file.read()\n",
    "    forecast = forecast.split('\\n')\n",
    "    # locate the position of the 1:00 AM\n",
    "    i = 0\n",
    "    while forecast[i] != '1:00 AM':\n",
    "        i += 5\n",
    "    temps = []\n",
    "    temps.append(forecast[i+2].split('\\t')[1][:-1])\n",
    "    i += 5\n",
    "    while forecast[i] != '1:00 AM':\n",
    "        temps.append(forecast[i+2].split('\\t')[1][:-1])\n",
    "        i += 5\n",
    "    assert(len(temps) == 24)\n",
    "    print(temps)"
   ]
  },
  {
   "cell_type": "code",
   "execution_count": 16,
   "metadata": {},
   "outputs": [
    {
     "data": {
      "text/plain": [
       "['5:15 PM',\n",
       " 'SUN',\n",
       " 'Sunny\\t53°\\t51°',\n",
       " '0%',\n",
       " '42%\\tN 6 mph',\n",
       " '6:00 PM',\n",
       " 'SUN',\n",
       " 'Clear\\t49°\\t47°',\n",
       " '0%',\n",
       " '45%\\tN 6 mph',\n",
       " '7:00 PM',\n",
       " 'SUN',\n",
       " 'Clear\\t48°\\t46°',\n",
       " '0%',\n",
       " '50%\\tNNE 5 mph',\n",
       " '8:00 PM',\n",
       " 'SUN',\n",
       " 'Clear\\t46°\\t44°',\n",
       " '0%',\n",
       " '57%\\tNE 3 mph',\n",
       " '9:00 PM',\n",
       " 'SUN',\n",
       " 'Clear\\t43°\\t43°',\n",
       " '0%',\n",
       " '69%\\tENE 1 mph',\n",
       " '10:00 PM',\n",
       " 'SUN',\n",
       " 'Clear\\t42°\\t42°',\n",
       " '0%',\n",
       " '74%\\tE 1 mph',\n",
       " '11:00 PM',\n",
       " 'SUN',\n",
       " 'Clear\\t40°\\t40°',\n",
       " '5%',\n",
       " '77%\\tE 1 mph',\n",
       " '12:00 AM',\n",
       " 'MON',\n",
       " 'Clear\\t39°\\t39°',\n",
       " '5%',\n",
       " '80%\\tE 1 mph',\n",
       " '1:00 AM',\n",
       " 'MON',\n",
       " 'Mostly Clear\\t39°\\t39°',\n",
       " '5%',\n",
       " '81%\\tE 1 mph',\n",
       " '2:00 AM',\n",
       " 'MON',\n",
       " 'Mostly Clear\\t38°\\t38°',\n",
       " '5%',\n",
       " '81%\\tESE 2 mph',\n",
       " '3:00 AM',\n",
       " 'MON',\n",
       " 'Partly Cloudy\\t37°\\t37°',\n",
       " '5%',\n",
       " '84%\\tESE 1 mph',\n",
       " '4:00 AM',\n",
       " 'MON',\n",
       " 'Partly Cloudy\\t37°\\t37°',\n",
       " '5%',\n",
       " '84%\\tESE 1 mph',\n",
       " '5:00 AM',\n",
       " 'MON',\n",
       " 'Mostly Cloudy\\t36°\\t36°',\n",
       " '5%',\n",
       " '84%\\tESE 2 mph',\n",
       " '6:00 AM',\n",
       " 'MON',\n",
       " 'Mostly Cloudy\\t36°\\t36°',\n",
       " '5%',\n",
       " '85%\\tESE 1 mph',\n",
       " '7:00 AM',\n",
       " 'MON',\n",
       " 'Mostly Cloudy\\t36°\\t36°',\n",
       " '5%',\n",
       " '84%\\tESE 2 mph',\n",
       " '8:00 AM',\n",
       " 'MON',\n",
       " 'Mostly Cloudy\\t36°\\t36°',\n",
       " '5%',\n",
       " '86%\\tSE 2 mph',\n",
       " '9:00 AM',\n",
       " 'MON',\n",
       " 'Mostly Cloudy\\t38°\\t38°',\n",
       " '5%',\n",
       " '83%\\tESE 2 mph',\n",
       " '10:00 AM',\n",
       " 'MON',\n",
       " 'Mostly Cloudy\\t41°\\t41°',\n",
       " '5%',\n",
       " '78%\\tSE 2 mph',\n",
       " '11:00 AM',\n",
       " 'MON',\n",
       " 'Sunny\\t44°\\t44°',\n",
       " '5%',\n",
       " '71%\\tE 1 mph',\n",
       " '12:00 PM',\n",
       " 'MON',\n",
       " 'Mostly Sunny\\t46°\\t46°',\n",
       " '0%',\n",
       " '64%\\tENE 2 mph',\n",
       " '1:00 PM',\n",
       " 'MON',\n",
       " 'Sunny\\t48°\\t47°',\n",
       " '0%',\n",
       " '61%\\tNW 4 mph',\n",
       " '2:00 PM',\n",
       " 'MON',\n",
       " 'Sunny\\t50°\\t48°',\n",
       " '0%',\n",
       " '55%\\tNNW 5 mph',\n",
       " '3:00 PM',\n",
       " 'MON',\n",
       " 'Sunny\\t51°\\t49°',\n",
       " '0%',\n",
       " '53%\\tNNW 6 mph',\n",
       " '4:00 PM',\n",
       " 'MON',\n",
       " 'Sunny\\t51°\\t48°',\n",
       " '0%',\n",
       " '52%\\tN 6 mph',\n",
       " '5:00 PM',\n",
       " 'MON',\n",
       " 'Sunny\\t50°\\t47°',\n",
       " '0%',\n",
       " '55%\\tN 7 mph',\n",
       " '6:00 PM',\n",
       " 'MON',\n",
       " 'Clear\\t48°\\t46°',\n",
       " '5%',\n",
       " '61%\\tN 6 mph',\n",
       " '7:00 PM',\n",
       " 'MON',\n",
       " 'Clear\\t47°\\t45°',\n",
       " '5%',\n",
       " '64%\\tN 6 mph',\n",
       " '8:00 PM',\n",
       " 'MON',\n",
       " 'Clear\\t46°\\t43°',\n",
       " '5%',\n",
       " '64%\\tNNE 6 mph',\n",
       " '9:00 PM',\n",
       " 'MON',\n",
       " 'Clear\\t45°\\t42°',\n",
       " '5%',\n",
       " '63%\\tNNE 6 mph',\n",
       " '10:00 PM',\n",
       " 'MON',\n",
       " 'Clear\\t44°\\t40°',\n",
       " '5%',\n",
       " '61%\\tNE 7 mph',\n",
       " '11:00 PM',\n",
       " 'MON',\n",
       " 'Clear\\t42°\\t38°',\n",
       " '5%',\n",
       " '58%\\tENE 6 mph',\n",
       " '12:00 AM',\n",
       " 'TUE',\n",
       " 'Clear\\t41°\\t37°',\n",
       " '0%',\n",
       " '55%',\n",
       " '']"
      ]
     },
     "execution_count": 16,
     "metadata": {},
     "output_type": "execute_result"
    }
   ],
   "source": [
    "forecast"
   ]
  },
  {
   "cell_type": "code",
   "execution_count": null,
   "metadata": {},
   "outputs": [],
   "source": []
  }
 ],
 "metadata": {
  "kernelspec": {
   "display_name": "Python 3",
   "language": "python",
   "name": "python3"
  },
  "language_info": {
   "codemirror_mode": {
    "name": "ipython",
    "version": 3
   },
   "file_extension": ".py",
   "mimetype": "text/x-python",
   "name": "python",
   "nbconvert_exporter": "python",
   "pygments_lexer": "ipython3",
   "version": "3.5.2"
  }
 },
 "nbformat": 4,
 "nbformat_minor": 2
}
