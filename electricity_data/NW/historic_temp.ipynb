{
 "cells": [
  {
   "cell_type": "code",
   "execution_count": 30,
   "metadata": {},
   "outputs": [
    {
     "name": "stdout",
     "output_type": "stream",
     "text": [
      "[11,12, 1, 2, 3, 4, 5, 6, 7, 8, 9,10,11,12, 1, 2, 3, 4, 5, 6, 7, 8]\n",
      "[45,44,44,44,43,43,43,43,45,47,50,52,55,58,58,60,61,61,59,56,55,55]\n"
     ]
    }
   ],
   "source": [
    "import numpy as np\n",
    "\n",
    "def print_list(l):\n",
    "    print('[',end=\"\")\n",
    "    print(l[0],end=\"\")\n",
    "    for ind in np.arange(1,len(l)):\n",
    "        print(','+str(l[ind]),end='')\n",
    "    print(']')\n",
    "\n",
    "with open('historic data/seattle.txt', 'r') as file:\n",
    "    times = []\n",
    "    temps = []\n",
    "    data = file.read()\n",
    "    data = data.split('\\n')\n",
    "    for line in data:\n",
    "        line = line.split('\\t')\n",
    "        if len(line) > 3:\n",
    "            time = line[0]\n",
    "            if time.split(':')[1][:2] == '55':\n",
    "                times.append(time.split(':')[0][-2:])\n",
    "                temps.append(int(line[1]))\n",
    "\n",
    "print_list(times[::-1])\n",
    "print_list(temps[::-1])"
   ]
  },
  {
   "cell_type": "code",
   "execution_count": null,
   "metadata": {},
   "outputs": [],
   "source": []
  }
 ],
 "metadata": {
  "kernelspec": {
   "display_name": "Python 3",
   "language": "python",
   "name": "python3"
  },
  "language_info": {
   "codemirror_mode": {
    "name": "ipython",
    "version": 3
   },
   "file_extension": ".py",
   "mimetype": "text/x-python",
   "name": "python",
   "nbconvert_exporter": "python",
   "pygments_lexer": "ipython3",
   "version": "3.5.2"
  }
 },
 "nbformat": 4,
 "nbformat_minor": 2
}
