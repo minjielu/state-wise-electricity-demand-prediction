{
 "cells": [
  {
   "cell_type": "markdown",
   "metadata": {},
   "source": [
    "## Get the electricity data for the past three days"
   ]
  },
  {
   "cell_type": "code",
   "execution_count": 104,
   "metadata": {},
   "outputs": [],
   "source": [
    "import requests as rq\n",
    "import pandas as pd\n",
    "import numpy as np\n",
    "import pickle\n",
    "from datetime import datetime, timedelta\n",
    "import matplotlib.pyplot as plt\n",
    "from matplotlib.ticker import MultipleLocator"
   ]
  },
  {
   "cell_type": "code",
   "execution_count": 112,
   "metadata": {},
   "outputs": [],
   "source": [
    "pred_start = datetime(2019,10,14,0,5,0)\n",
    "pred_end = datetime(2019,10,18,0,5,0)\n",
    "start_day = 0\n",
    "end_day = 4"
   ]
  },
  {
   "cell_type": "code",
   "execution_count": 113,
   "metadata": {},
   "outputs": [],
   "source": [
    "# Current time\n",
    "# now = datetime.now()\n",
    "now = pred_end-timedelta(days=1)\n",
    "# Time three days ago\n",
    "three_days_ago = pred_start-timedelta(days=3)"
   ]
  },
  {
   "cell_type": "code",
   "execution_count": 114,
   "metadata": {},
   "outputs": [],
   "source": [
    "end = now.strftime('%Y%m%dT%H-%M')\n",
    "start = three_days_ago.strftime('%Y%m%dT%H-%M')\n",
    "key = '8a6315646d5695061696c71a041c42c0'\n",
    "series_id = 'EBA.TEX-ALL.NG.HL'\n",
    "data = rq.get(\"http://api.eia.gov/series/?api_key={}&series_id={}&start={}&end={}\".format(key, series_id, start, end))"
   ]
  },
  {
   "cell_type": "code",
   "execution_count": 115,
   "metadata": {},
   "outputs": [],
   "source": [
    "usage_series_id = 'EBA.TEX-ALL.D.HL'\n",
    "usage_data = rq.get(\"http://api.eia.gov/series/?api_key={}&series_id={}&start={}&end={}\".format(key, usage_series_id, start, end))"
   ]
  },
  {
   "cell_type": "code",
   "execution_count": 116,
   "metadata": {},
   "outputs": [],
   "source": [
    "hourly_demand = data.json()['series'][0]['data']\n",
    "electricity_demand = pd.DataFrame(hourly_demand, columns=['datetime','net_gen'])\n",
    "electricity_usage = pd.DataFrame(usage_data.json()['series'][0]['data'], columns=['datetime', 'usage'])\n",
    "electricity_demand = electricity_demand.merge(electricity_usage, how='right', left_on='datetime', right_on='datetime')\n",
    "electricity_demand = electricity_demand.sort_values(['datetime']).reset_index(drop=True)"
   ]
  },
  {
   "cell_type": "code",
   "execution_count": 117,
   "metadata": {},
   "outputs": [
    {
     "data": {
      "text/html": [
       "<div>\n",
       "<style scoped>\n",
       "    .dataframe tbody tr th:only-of-type {\n",
       "        vertical-align: middle;\n",
       "    }\n",
       "\n",
       "    .dataframe tbody tr th {\n",
       "        vertical-align: top;\n",
       "    }\n",
       "\n",
       "    .dataframe thead th {\n",
       "        text-align: right;\n",
       "    }\n",
       "</style>\n",
       "<table border=\"1\" class=\"dataframe\">\n",
       "  <thead>\n",
       "    <tr style=\"text-align: right;\">\n",
       "      <th></th>\n",
       "      <th>datetime</th>\n",
       "      <th>net_gen</th>\n",
       "      <th>usage</th>\n",
       "    </tr>\n",
       "  </thead>\n",
       "  <tbody>\n",
       "    <tr>\n",
       "      <th>0</th>\n",
       "      <td>20191011T00-05</td>\n",
       "      <td>43796</td>\n",
       "      <td>43833</td>\n",
       "    </tr>\n",
       "    <tr>\n",
       "      <th>1</th>\n",
       "      <td>20191011T01-05</td>\n",
       "      <td>40703</td>\n",
       "      <td>40775</td>\n",
       "    </tr>\n",
       "    <tr>\n",
       "      <th>2</th>\n",
       "      <td>20191011T02-05</td>\n",
       "      <td>38475</td>\n",
       "      <td>38687</td>\n",
       "    </tr>\n",
       "    <tr>\n",
       "      <th>3</th>\n",
       "      <td>20191011T03-05</td>\n",
       "      <td>36931</td>\n",
       "      <td>37148</td>\n",
       "    </tr>\n",
       "    <tr>\n",
       "      <th>4</th>\n",
       "      <td>20191011T04-05</td>\n",
       "      <td>35915</td>\n",
       "      <td>36132</td>\n",
       "    </tr>\n",
       "  </tbody>\n",
       "</table>\n",
       "</div>"
      ],
      "text/plain": [
       "         datetime  net_gen  usage\n",
       "0  20191011T00-05    43796  43833\n",
       "1  20191011T01-05    40703  40775\n",
       "2  20191011T02-05    38475  38687\n",
       "3  20191011T03-05    36931  37148\n",
       "4  20191011T04-05    35915  36132"
      ]
     },
     "execution_count": 117,
     "metadata": {},
     "output_type": "execute_result"
    }
   ],
   "source": [
    "electricity_demand.head(5)"
   ]
  },
  {
   "cell_type": "code",
   "execution_count": 118,
   "metadata": {},
   "outputs": [
    {
     "data": {
      "text/html": [
       "<div>\n",
       "<style scoped>\n",
       "    .dataframe tbody tr th:only-of-type {\n",
       "        vertical-align: middle;\n",
       "    }\n",
       "\n",
       "    .dataframe tbody tr th {\n",
       "        vertical-align: top;\n",
       "    }\n",
       "\n",
       "    .dataframe thead th {\n",
       "        text-align: right;\n",
       "    }\n",
       "</style>\n",
       "<table border=\"1\" class=\"dataframe\">\n",
       "  <thead>\n",
       "    <tr style=\"text-align: right;\">\n",
       "      <th></th>\n",
       "      <th>datetime</th>\n",
       "      <th>net_gen</th>\n",
       "      <th>usage</th>\n",
       "    </tr>\n",
       "  </thead>\n",
       "  <tbody>\n",
       "    <tr>\n",
       "      <th>144</th>\n",
       "      <td>20191017T00-05</td>\n",
       "      <td>32107</td>\n",
       "      <td>32205</td>\n",
       "    </tr>\n",
       "  </tbody>\n",
       "</table>\n",
       "</div>"
      ],
      "text/plain": [
       "           datetime  net_gen  usage\n",
       "144  20191017T00-05    32107  32205"
      ]
     },
     "execution_count": 118,
     "metadata": {},
     "output_type": "execute_result"
    }
   ],
   "source": [
    "electricity_demand.tail(1)"
   ]
  },
  {
   "cell_type": "code",
   "execution_count": 119,
   "metadata": {},
   "outputs": [],
   "source": [
    "def diff_in_hours(x):\n",
    "    # This function returns the number of hours from 2015-07-01 01:05:00\n",
    "    minutes = (x-datetime(2015, 7, 1, 1, 5, 0)).total_seconds()/60\n",
    "    if minutes % 60 > 30:\n",
    "        return minutes/60 + 1\n",
    "    else:\n",
    "        return minutes/60\n",
    "    \n",
    "df_for_periodic_model = electricity_demand.copy()\n",
    "df_for_periodic_model['datetime'] = pd.to_datetime(df_for_periodic_model['datetime'], format='%Y%m%dT%H-%M')\n",
    "df_for_periodic_model['hours'] = df_for_periodic_model['datetime'].apply(lambda x: diff_in_hours(x))\n",
    "\n",
    "# Construct the sin and cos columns.\n",
    "def trig(func, period, x):\n",
    "    # This function returns a sin or x value of x.\n",
    "    return func(2*np.pi*x/period)\n",
    "\n",
    "# Yearly period.\n",
    "df_for_periodic_model['yearly_sin'] = df_for_periodic_model['hours'].apply(lambda x: trig(np.sin, 365.25*24, x))\n",
    "df_for_periodic_model['yearly_cos'] = df_for_periodic_model['hours'].apply(lambda x: trig(np.cos, 365.25*24, x))\n",
    "df_for_periodic_model['yearly_2_sin'] = df_for_periodic_model['hours'].apply(lambda x: trig(np.sin, 365.25*24/2, x)) # Starting from here are harmonics\n",
    "df_for_periodic_model['yearly_2_cos'] = df_for_periodic_model['hours'].apply(lambda x: trig(np.cos, 365.25*24/2, x))\n",
    "df_for_periodic_model['yearly_3_sin'] = df_for_periodic_model['hours'].apply(lambda x: trig(np.sin, 365.25*24/3, x))\n",
    "df_for_periodic_model['yearly_3_cos'] = df_for_periodic_model['hours'].apply(lambda x: trig(np.cos, 365.25*24/3, x))\n",
    "# Weekly period.\n",
    "df_for_periodic_model['weekly_sin'] = df_for_periodic_model['hours'].apply(lambda x: trig(np.sin, 7*24, x))\n",
    "df_for_periodic_model['weekly_cos'] = df_for_periodic_model['hours'].apply(lambda x: trig(np.cos, 7*24, x))\n",
    "df_for_periodic_model['weekly_2_sin'] = df_for_periodic_model['hours'].apply(lambda x: trig(np.sin, 7*24/2, x))\n",
    "df_for_periodic_model['weekly_2_cos'] = df_for_periodic_model['hours'].apply(lambda x: trig(np.cos, 7*24/2, x))\n",
    "# Dayly period.\n",
    "df_for_periodic_model['dayly_sin'] = df_for_periodic_model['hours'].apply(lambda x: trig(np.sin, 24, x))\n",
    "df_for_periodic_model['dayly_cos'] = df_for_periodic_model['hours'].apply(lambda x: trig(np.cos, 24, x))\n",
    "df_for_periodic_model['dayly_2_sin'] = df_for_periodic_model['hours'].apply(lambda x: trig(np.sin, 24/2, x))\n",
    "df_for_periodic_model['dayly_2_cos'] = df_for_periodic_model['hours'].apply(lambda x: trig(np.cos, 24/2, x))\n",
    "df_for_periodic_model['dayly_3_sin'] = df_for_periodic_model['hours'].apply(lambda x: trig(np.sin, 24/3, x))\n",
    "df_for_periodic_model['dayly_3_cos'] = df_for_periodic_model['hours'].apply(lambda x: trig(np.cos, 24/3, x))\n",
    "df_for_periodic_model['dayly_4_sin'] = df_for_periodic_model['hours'].apply(lambda x: trig(np.sin, 24/4, x))\n",
    "df_for_periodic_model['dayly_4_cos'] = df_for_periodic_model['hours'].apply(lambda x: trig(np.cos, 24/4, x))\n",
    "\n",
    "# Produce the x^2 and X^3 term for the ridge regressor\n",
    "\n",
    "df_for_periodic_model['scaled_hours'] = df_for_periodic_model['hours']/100"
   ]
  },
  {
   "cell_type": "code",
   "execution_count": 120,
   "metadata": {},
   "outputs": [],
   "source": [
    "def trend(linear_trend, row):\n",
    "    return (row*linear_trend.coef_[0]+linear_trend.intercept_)*1e4 "
   ]
  },
  {
   "cell_type": "code",
   "execution_count": 121,
   "metadata": {},
   "outputs": [],
   "source": [
    "# load the linear trend model.\n",
    "with open('models/lr_yearly_trend', 'rb') as file:\n",
    "    linear_trend = pickle.load(file)\n",
    "    \n",
    "# load the coefficient linear correction model.\n",
    "with open('models/lr_adjustement_coef', 'rb') as file:\n",
    "    lr_coef = pickle.load(file)\n",
    "    \n",
    "# load the interception linear correction model.\n",
    "with open('models/lr_adjustement_intercept', 'rb') as file:\n",
    "    lr_intercept = pickle.load(file)\n",
    "    \n",
    "# load the periodic model.\n",
    "with open('models/lr_periodic', 'rb') as file:\n",
    "    lr_periodic = pickle.load(file)\n",
    "    \n",
    "# load the ar2 model.\n",
    "with open('models/lr_ar2', 'rb') as file:\n",
    "    lr_ar2 = pickle.load(file)"
   ]
  },
  {
   "cell_type": "code",
   "execution_count": 122,
   "metadata": {},
   "outputs": [],
   "source": [
    "columns_trig = []\n",
    "for column in df_for_periodic_model.columns:\n",
    "    if column.endswith('sin') or column.endswith('cos'):\n",
    "        columns_trig.append(column)"
   ]
  },
  {
   "cell_type": "code",
   "execution_count": 123,
   "metadata": {},
   "outputs": [],
   "source": [
    "# Calculate the periodic part:\n",
    "X = df_for_periodic_model[columns_trig].values\n",
    "peri_part = lr_periodic.predict(X)"
   ]
  },
  {
   "cell_type": "code",
   "execution_count": 124,
   "metadata": {},
   "outputs": [],
   "source": [
    "df_for_periodic_model['trend'] = df_for_periodic_model['scaled_hours'].apply(lambda row: trend(linear_trend, row))\n",
    "\n",
    "df_for_periodic_model['periodic_pred'] = peri_part* \\\n",
    "            lr_coef.predict(df_for_periodic_model[columns_trig[:6]].values).reshape(-1) \\\n",
    "            + lr_intercept.predict(df_for_periodic_model[columns_trig[:6]].values).reshape(-1)\n",
    "    \n",
    "df_for_periodic_model['periodic_pred'] = df_for_periodic_model['periodic_pred'] + df_for_periodic_model['trend']"
   ]
  },
  {
   "cell_type": "code",
   "execution_count": 125,
   "metadata": {},
   "outputs": [],
   "source": [
    "# Calculate the residual.\n",
    "\n",
    "df_for_periodic_model['residual'] = df_for_periodic_model['usage'] - df_for_periodic_model['periodic_pred']"
   ]
  },
  {
   "cell_type": "markdown",
   "metadata": {},
   "source": [
    "## Make the time series prediction"
   ]
  },
  {
   "cell_type": "code",
   "execution_count": 126,
   "metadata": {},
   "outputs": [],
   "source": [
    "# The lastest time.\n",
    "\n",
    "df_pred = pd.DataFrame()\n",
    "\n",
    "df_pred['datetime'] = np.arange(pred_start, pred_end, timedelta(hours=1))"
   ]
  },
  {
   "cell_type": "code",
   "execution_count": 127,
   "metadata": {},
   "outputs": [],
   "source": [
    "# Calculate the prediction of the periodic model.\n",
    "df_pred['hours'] = df_pred['datetime'].apply(lambda x: diff_in_hours(x))\n",
    "\n",
    "# Yearly period.\n",
    "df_pred['yearly_sin'] = df_pred['hours'].apply(lambda x: trig(np.sin, 365.25*24, x))\n",
    "df_pred['yearly_cos'] = df_pred['hours'].apply(lambda x: trig(np.cos, 365.25*24, x))\n",
    "df_pred['yearly_2_sin'] = df_pred['hours'].apply(lambda x: trig(np.sin, 365.25*24/2, x)) # Starting from here are harmonics\n",
    "df_pred['yearly_2_cos'] = df_pred['hours'].apply(lambda x: trig(np.cos, 365.25*24/2, x))\n",
    "df_pred['yearly_3_sin'] = df_pred['hours'].apply(lambda x: trig(np.sin, 365.25*24/3, x))\n",
    "df_pred['yearly_3_cos'] = df_pred['hours'].apply(lambda x: trig(np.cos, 365.25*24/3, x))\n",
    "# Weekly period.\n",
    "df_pred['weekly_sin'] = df_pred['hours'].apply(lambda x: trig(np.sin, 7*24, x))\n",
    "df_pred['weekly_cos'] = df_pred['hours'].apply(lambda x: trig(np.cos, 7*24, x))\n",
    "df_pred['weekly_2_sin'] = df_pred['hours'].apply(lambda x: trig(np.sin, 7*24/2, x))\n",
    "df_pred['weekly_2_cos'] = df_pred['hours'].apply(lambda x: trig(np.cos, 7*24/2, x))\n",
    "# Dayly period.\n",
    "df_pred['dayly_sin'] = df_pred['hours'].apply(lambda x: trig(np.sin, 24, x))\n",
    "df_pred['dayly_cos'] = df_pred['hours'].apply(lambda x: trig(np.cos, 24, x))\n",
    "df_pred['dayly_2_sin'] = df_pred['hours'].apply(lambda x: trig(np.sin, 24/2, x))\n",
    "df_pred['dayly_2_cos'] = df_pred['hours'].apply(lambda x: trig(np.cos, 24/2, x))\n",
    "df_pred['dayly_3_sin'] = df_pred['hours'].apply(lambda x: trig(np.sin, 24/3, x))\n",
    "df_pred['dayly_3_cos'] = df_pred['hours'].apply(lambda x: trig(np.cos, 24/3, x))\n",
    "df_pred['dayly_4_sin'] = df_pred['hours'].apply(lambda x: trig(np.sin, 24/4, x))\n",
    "df_pred['dayly_4_cos'] = df_pred['hours'].apply(lambda x: trig(np.cos, 24/4, x))\n",
    "\n",
    "# Produce the x^2 and X^3 term for the ridge regressor\n",
    "\n",
    "df_pred['scaled_hours'] = df_pred['hours']/100\n",
    "\n",
    "# Calculate the periodic part:\n",
    "X = df_pred[columns_trig].values\n",
    "peri_part = lr_periodic.predict(X)\n",
    "\n",
    "df_pred['trend'] = df_pred['scaled_hours'].apply(lambda row: trend(linear_trend, row))\n",
    "\n",
    "df_pred['periodic_pred'] = peri_part* \\\n",
    "            lr_coef.predict(df_pred[columns_trig[:6]].values).reshape(-1) \\\n",
    "            + lr_intercept.predict(df_pred[columns_trig[:6]].values).reshape(-1)\n",
    "    \n",
    "df_pred['periodic_pred'] = df_pred['periodic_pred'] + df_pred['trend']"
   ]
  },
  {
   "cell_type": "code",
   "execution_count": 128,
   "metadata": {},
   "outputs": [],
   "source": [
    "def apply_ar2(dt):\n",
    "    last_day = dt-timedelta(days=1)\n",
    "    last_last = last_day-timedelta(days=1)\n",
    "    r1 = df_for_periodic_model.loc[df_for_periodic_model['datetime'] == last_day, 'residual'].values[0]\n",
    "    r2 = df_for_periodic_model.loc[df_for_periodic_model['datetime'] == last_last, 'residual'].values[0]\n",
    "    return r2*lr_ar2.coef_[0] + r1*lr_ar2.coef_[1]"
   ]
  },
  {
   "cell_type": "code",
   "execution_count": 129,
   "metadata": {},
   "outputs": [
    {
     "data": {
      "text/html": [
       "<div>\n",
       "<style scoped>\n",
       "    .dataframe tbody tr th:only-of-type {\n",
       "        vertical-align: middle;\n",
       "    }\n",
       "\n",
       "    .dataframe tbody tr th {\n",
       "        vertical-align: top;\n",
       "    }\n",
       "\n",
       "    .dataframe thead th {\n",
       "        text-align: right;\n",
       "    }\n",
       "</style>\n",
       "<table border=\"1\" class=\"dataframe\">\n",
       "  <thead>\n",
       "    <tr style=\"text-align: right;\">\n",
       "      <th></th>\n",
       "      <th>datetime</th>\n",
       "      <th>net_gen</th>\n",
       "      <th>usage</th>\n",
       "      <th>hours</th>\n",
       "      <th>yearly_sin</th>\n",
       "      <th>yearly_cos</th>\n",
       "      <th>yearly_2_sin</th>\n",
       "      <th>yearly_2_cos</th>\n",
       "      <th>yearly_3_sin</th>\n",
       "      <th>yearly_3_cos</th>\n",
       "      <th>...</th>\n",
       "      <th>dayly_2_sin</th>\n",
       "      <th>dayly_2_cos</th>\n",
       "      <th>dayly_3_sin</th>\n",
       "      <th>dayly_3_cos</th>\n",
       "      <th>dayly_4_sin</th>\n",
       "      <th>dayly_4_cos</th>\n",
       "      <th>scaled_hours</th>\n",
       "      <th>trend</th>\n",
       "      <th>periodic_pred</th>\n",
       "      <th>residual</th>\n",
       "    </tr>\n",
       "  </thead>\n",
       "  <tbody>\n",
       "    <tr>\n",
       "      <th>144</th>\n",
       "      <td>2019-10-17 00:05:00</td>\n",
       "      <td>32107</td>\n",
       "      <td>32205</td>\n",
       "      <td>37655.0</td>\n",
       "      <td>0.959282</td>\n",
       "      <td>-0.282451</td>\n",
       "      <td>-0.541901</td>\n",
       "      <td>-0.840442</td>\n",
       "      <td>-0.65316</td>\n",
       "      <td>0.75722</td>\n",
       "      <td>...</td>\n",
       "      <td>-0.5</td>\n",
       "      <td>0.866025</td>\n",
       "      <td>-0.707107</td>\n",
       "      <td>0.707107</td>\n",
       "      <td>-0.866025</td>\n",
       "      <td>0.5</td>\n",
       "      <td>376.55</td>\n",
       "      <td>45046.069164</td>\n",
       "      <td>36893.145699</td>\n",
       "      <td>-4688.145699</td>\n",
       "    </tr>\n",
       "  </tbody>\n",
       "</table>\n",
       "<p>1 rows × 26 columns</p>\n",
       "</div>"
      ],
      "text/plain": [
       "               datetime  net_gen  usage    hours  yearly_sin  yearly_cos  \\\n",
       "144 2019-10-17 00:05:00    32107  32205  37655.0    0.959282   -0.282451   \n",
       "\n",
       "     yearly_2_sin  yearly_2_cos  yearly_3_sin  yearly_3_cos  ...  dayly_2_sin  \\\n",
       "144     -0.541901     -0.840442      -0.65316       0.75722  ...         -0.5   \n",
       "\n",
       "     dayly_2_cos  dayly_3_sin  dayly_3_cos  dayly_4_sin  dayly_4_cos  \\\n",
       "144     0.866025    -0.707107     0.707107    -0.866025          0.5   \n",
       "\n",
       "     scaled_hours         trend  periodic_pred     residual  \n",
       "144        376.55  45046.069164   36893.145699 -4688.145699  \n",
       "\n",
       "[1 rows x 26 columns]"
      ]
     },
     "execution_count": 129,
     "metadata": {},
     "output_type": "execute_result"
    }
   ],
   "source": [
    "df_for_periodic_model.tail(1)"
   ]
  },
  {
   "cell_type": "code",
   "execution_count": 130,
   "metadata": {},
   "outputs": [],
   "source": [
    "# The time series prediction\n",
    "df_pred['residual'] = df_pred['datetime'].apply(lambda dt: apply_ar2(dt))\n",
    "df_pred['ts_pred'] = df_pred['residual'] + df_pred['periodic_pred']"
   ]
  },
  {
   "cell_type": "markdown",
   "metadata": {},
   "source": [
    "## Make the random forest prediction"
   ]
  },
  {
   "cell_type": "code",
   "execution_count": 131,
   "metadata": {},
   "outputs": [],
   "source": [
    "# These temperatures start from 2019-10-13 00:00:00\n",
    "houston_last = [61,60,59,60,61,61,59,61,61,65,69,72,76,80,80,82,83,83,80,78,76,76,74,75,75,76,76,75,74,75,75,75,74,77,78,82] \\\n",
    "            + [85,88,86,85,88,86,86,83,81] # 2019-10-14-20:00:00\n",
    "houston_last = [x-2 for x in houston_last]\n",
    "dallas_last = [56,57,57,57,58,59,60,60,60,60,62,67,70,73,76,76,77,77,75,73,71,70,66,66,66,65,63,62,62,62,62,62,63,64,66,69] \\\n",
    "            + [70,73,74,74,73,72,71,70,69] \n",
    "dallas_last = [x-2 for x in dallas_last]\n",
    "san_antonio_last = [64,63,62,62,62,62,62,62,63,65,66,72,74,75,76,78,79,80,79,78,76,75,74,75,75,74,74,74,73,73,71,71,72,74,76,78] \\\n",
    "            + [79,81,83,87,88,90,89,86,84]\n",
    "# san_antonio_last = [x-2 for x in san_antonio_last]"
   ]
  },
  {
   "cell_type": "code",
   "execution_count": 132,
   "metadata": {},
   "outputs": [],
   "source": [
    "# These three temperatures start from 2019-10-14 00:00:00\n",
    "houston_pred = houston_last[24:36]+[84,84,84,85,83,82,80,79,78,77,77,77,77] \\\n",
    "                + [78,78,78,78,78,77,77,77,80,83,85,86,87,86,88,89,88,86,83,81,79,78,77,77] \\\n",
    "                + [79,78,78,75,75,73,73,72,72,73,72,71,72,72,73,73,71,70,68,66,66,65,64,64] \\\n",
    "                + [63,61,60,59,58,59,58,58,61,63,66,69,70,72,75,75,74,72,66,65,65,63,62,62] \\\n",
    "                + [59,59,59,59,58,58,58,59,62,66,70,73,76,79,80,81,80,78,74,73,71,70,69,68]# ends at 2019-10-18-00:00:00 (include)\n",
    "houston_pred = [x for x in houston_pred]\n",
    "dallas_pred = dallas_last[24:36]+[72,73,75,77,77,77,77,75,74,72,71,71,71] \\\n",
    "                + [69,70,71,72,72,73,73,73,75,78,81,83,85,87,88,89,89,87,83,78,77,72,69,67] \\\n",
    "                + [69,68,64,62,61,59,57,56,57,59,61,63,67,68,69,70,70,69,66,63,61,60,58,57] \\\n",
    "                + [53,52,52,51,50,49,48,48,52,56,62,66,69,71,74,75,74,72,70,67,65,63,61,59] \\\n",
    "                + [59,58,57,56,55,54,54,54,58,62,66,69,72,75,76,77,76,75,71,69,67,65,65,64]\n",
    "dallas_pred = [x for x in dallas_pred]\n",
    "san_antonio_pred = san_antonio_last[24:36]+[81,84,86,87,88,87,85,84,82,80,78,77,76] \\\n",
    "                + [78,77,77,77,77,76,76,76,77,79,82,84,86,89,90,92,92,91,88,85,80,78,77,76] \\\n",
    "                + [77,75,74,72,72,70,67,65,66,67,67,69,71,72,73,74,73,72,70,68,66,65,64,63] \\\n",
    "                + [63,62,62,61,60,59,59,60,61,63,65,68,70,72,74,75,74,72,70,68,67,65,64,63] \\\n",
    "                + [59,59,59,58,57,56,56,58,61,65,70,74,78,81,83,84,83,82,79,76,73,70,68,67]\n",
    "# san_antonio = [x-1.5 for x in san_antonio]"
   ]
  },
  {
   "cell_type": "code",
   "execution_count": 133,
   "metadata": {},
   "outputs": [],
   "source": [
    "houston_last = np.asarray(houston_last).reshape(-1,1)\n",
    "dallas_last = np.asarray(dallas_last).reshape(-1,1)\n",
    "san_antonio_last = np.asarray(san_antonio_last).reshape(-1,1)\n",
    "houston_pred = np.asarray(houston_pred).reshape(-1,1)\n",
    "dallas_pred = np.asarray(dallas_pred).reshape(-1,1)\n",
    "san_antonio_pred = np.asarray(san_antonio_pred).reshape(-1,1)"
   ]
  },
  {
   "cell_type": "code",
   "execution_count": 134,
   "metadata": {},
   "outputs": [],
   "source": [
    "def attenuate(X, beta):\n",
    "    X_new = (1-beta)*X[24:].copy()\n",
    "    for h in np.arange(1, 24):\n",
    "        X_new += beta**h*(1-beta)*X[24-h:-1*h]\n",
    "    return X_new"
   ]
  },
  {
   "cell_type": "code",
   "execution_count": 135,
   "metadata": {},
   "outputs": [],
   "source": [
    "'''\n",
    "# Use both the true temperature data and the prediction.\n",
    "x_last = np.concatenate([houston_last, dallas_last, san_antonio_last], axis=1)\n",
    "x_pred = np.concatenate([houston_pred, dallas_pred, san_antonio_pred], axis=1)\n",
    "x_tot = np.concatenate([x_last[start_day*24:(start_day+1)*24], x_pred[start_day*24:(start_day+1*24)]], axis=0).copy()\n",
    "x_new = attenuate(x_tot, 0.84)\n",
    "for day in np.arange(start_day+1, end_day):\n",
    "    x_tot = np.concatenate([x_last[day*24:(day+1)*24], x_pred[day*24:(day+1*24)]], axis=0).copy()\n",
    "    x_new = np.concatenate([x_new, attenuate(x_tot,0.84)], axis=0)\n",
    "'''\n",
    "# Use only the prediction data.\n",
    "x_last = np.concatenate([houston_last, dallas_last, san_antonio_last], axis=1)\n",
    "x_pred = np.concatenate([houston_pred, dallas_pred, san_antonio_pred], axis=1)\n",
    "x_tot = np.concatenate([x_last[:24], x_pred], axis=0).copy()\n",
    "x_tot = x_tot[start_day*24:(end_day+1)*24]\n",
    "x_new = attenuate(x_tot, 0.84)"
   ]
  },
  {
   "cell_type": "code",
   "execution_count": 136,
   "metadata": {},
   "outputs": [],
   "source": [
    "# Load the random forest model.\n",
    "with open('models/rf_pred', 'rb') as file:\n",
    "    rf_pred = pickle.load(file)\n",
    "\n",
    "# Load the ensemble forest model.\n",
    "with open('models/rf_ensemble', 'rb') as file:\n",
    "    rf_ensemble = pickle.load(file)\n",
    "    \n",
    "# Load the correction linear model.\n",
    "with open('models/lr_correction', 'rb') as file:\n",
    "    lr_correction = pickle.load(file)"
   ]
  },
  {
   "cell_type": "code",
   "execution_count": 137,
   "metadata": {},
   "outputs": [],
   "source": [
    "# Calculate the time features\n",
    "df_pred['time'] = df_pred['datetime'].apply(lambda x:x.hour)\n",
    "df_pred['month'] = df_pred['datetime'].apply(lambda x:x.month)\n",
    "df_pred['weekday'] = df_pred['datetime'].apply(lambda x:x.weekday())\n",
    "df_pred['year'] = df_pred['datetime'].apply(lambda x:x.year)\n",
    "df_pred['day'] = df_pred['datetime'].apply(lambda x:x.day)"
   ]
  },
  {
   "cell_type": "code",
   "execution_count": 138,
   "metadata": {},
   "outputs": [],
   "source": [
    "x_tot = np.concatenate([df_pred[['time','weekday', 'month']].values, x_new], axis=1)\n",
    "df_pred['rf_pred'] = lr_correction.predict(rf_pred.predict(x_tot).reshape(-1,1))"
   ]
  },
  {
   "cell_type": "code",
   "execution_count": 139,
   "metadata": {},
   "outputs": [],
   "source": [
    "# Prepare data for the ensemble model.\n",
    "def usage_last_day(dt):\n",
    "    last_day = dt-timedelta(days=1)\n",
    "    return df_for_periodic_model.loc[df_for_periodic_model['datetime'] == last_day, 'usage'].values[0]\n",
    "\n",
    "def usage_day_before_last(dt):\n",
    "    last_last = dt-timedelta(days=2)\n",
    "    return df_for_periodic_model.loc[df_for_periodic_model['datetime'] == last_last, 'usage'].values[0]\n",
    "\n",
    "df_pred['t_2'] = df_pred['datetime'].apply(lambda dt: usage_last_day(dt))\n",
    "df_pred['t_1'] = df_pred['datetime'].apply(lambda dt: usage_day_before_last(dt))"
   ]
  },
  {
   "cell_type": "code",
   "execution_count": 140,
   "metadata": {},
   "outputs": [],
   "source": [
    "# Ensemble features related to temperatures\n",
    "# X_temp = np.concatenate((x_pred[start_day*24:end_day*24,:], x_last[start_day*24:end_day*24,:], x_pred[start_day*24:end_day*24,:]-x_last[start_day*24:end_day*24,:]), axis=1)\n",
    "x_tot = np.concatenate([x_last[:24], x_pred], axis=0).copy()\n",
    "X_temp = np.concatenate([x_tot[(start_day+1)*24:(end_day+1)*24],x_tot[start_day*24:end_day*24,:], x_tot[(start_day+1)*24:(end_day+1)*24,:]-x_tot[start_day*24:end_day*24,:]], axis=1)\n",
    "X_ensemble = df_pred[['time','month','weekday','ts_pred','rf_pred', 't_2', 't_1']].values\n",
    "ts_rf_diff = X_ensemble[:,3]-X_ensemble[:,4]\n",
    "X_ensemble = np.concatenate((X_ensemble, ts_rf_diff.reshape(-1,1), X_temp), axis=1)\n",
    "\n",
    "# Make the ensemble prediction\n",
    "df_pred['prediction'] = rf_ensemble.predict(X_ensemble)"
   ]
  },
  {
   "cell_type": "code",
   "execution_count": 141,
   "metadata": {},
   "outputs": [
    {
     "data": {
      "image/png": "[encoded data removed]",
      "text/plain": [
       "<Figure size 432x288 with 1 Axes>"
      ]
     },
     "metadata": {
      "needs_background": "light"
     },
     "output_type": "display_data"
    }
   ],
   "source": [
    "true_end = datetime.now().strftime('%Y%m%dT%H-%M')\n",
    "true_start = pred_start.strftime('%Y%m%dT%H-%M')\n",
    "series_id = 'EBA.TEX-ALL.D.HL'\n",
    "true_data = rq.get(\"http://api.eia.gov/series/?api_key={}&series_id={}&start={}&end={}\".format(key, series_id, true_start, true_end))\n",
    "true_usage = np.asarray(true_data.json()['series'][0]['data'])[::-1,1]\n",
    "true_usage = [int(x) for x in true_usage]\n",
    "\n",
    "plt.plot(df_pred['prediction'])\n",
    "# plt.plot(df_pred['rf_pred'])\n",
    "# plt.plot(df_pred['ts_pred'])\n",
    "\n",
    "plt.plot(true_usage)\n",
    "plt.ylim([0,80000])\n",
    "plt.xlim([0,120])\n",
    "\n",
    "plt.show()"
   ]
  },
  {
   "cell_type": "code",
   "execution_count": 88,
   "metadata": {},
   "outputs": [
    {
     "data": {
      "text/plain": [
       "41082.96365122654"
      ]
     },
     "execution_count": 88,
     "metadata": {},
     "output_type": "execute_result"
    }
   ],
   "source": [
    "max(df_pred['prediction'].values[48:72])"
   ]
  },
  {
   "cell_type": "code",
   "execution_count": 33,
   "metadata": {},
   "outputs": [
    {
     "data": {
      "text/plain": [
       "56994"
      ]
     },
     "execution_count": 33,
     "metadata": {},
     "output_type": "execute_result"
    }
   ],
   "source": [
    "max(true_usage)"
   ]
  },
  {
   "cell_type": "code",
   "execution_count": 93,
   "metadata": {},
   "outputs": [
    {
     "name": "stdout",
     "output_type": "stream",
     "text": [
      "460.2865166666743\n",
      "531.5987047618873\n",
      "532.8626357143075\n",
      "645.6931904762023\n",
      "620.4042650793672\n",
      "270.518650793656\n",
      "125.52091096682852\n",
      "933.7816944444421\n",
      "1000.7123380952544\n",
      "776.3484936507957\n",
      "735.2706174603081\n",
      "935.7744896825243\n",
      "830.5371285714355\n",
      "644.7790904762078\n",
      "327.2834357142856\n",
      "463.60153571428236\n",
      "381.1454891053145\n",
      "307.30261688311293\n"
     ]
    }
   ],
   "source": [
    "for i in np.arange(72,90):\n",
    "    print(df_pred['prediction'].values[i]-true_usage[i])"
   ]
  },
  {
   "cell_type": "code",
   "execution_count": 35,
   "metadata": {},
   "outputs": [],
   "source": [
    "# Substract 2 for each temperature, 37003.685834\n",
    "# original 37713.642811\n",
    "# only '700' difference which is acceptable.\n",
    "# houston+5 last, 48915.220417,\n",
    "# original, 46309.444140,"
   ]
  },
  {
   "cell_type": "markdown",
   "metadata": {},
   "source": [
    "### Beautified Plot"
   ]
  },
  {
   "cell_type": "code",
   "execution_count": 57,
   "metadata": {},
   "outputs": [
    {
     "data": {
      "image/png": "[encoded data removed]",
      "text/plain": [
       "<Figure size 1080x504 with 1 Axes>"
      ]
     },
     "metadata": {
      "needs_background": "light"
     },
     "output_type": "display_data"
    }
   ],
   "source": [
    "true_end = datetime.now().strftime('%Y%m%dT%H-%M')\n",
    "true_start = pred_start.strftime('%Y%m%dT%H-%M')\n",
    "series_id = 'EBA.TEX-ALL.D.HL'\n",
    "true_data = rq.get(\"http://api.eia.gov/series/?api_key={}&series_id={}&start={}&end={}\".format(key, series_id, true_start, true_end))\n",
    "true_usage = np.asarray(true_data.json()['series'][0]['data'])[::-1,1]\n",
    "true_usage = [int(x) for x in true_usage]\n",
    "\n",
    "fig,ax = plt.subplots(figsize=(15,7))\n",
    "plt.plot(df_pred['prediction'], 'b', linewidth=4)\n",
    "plt.plot(true_usage, 'y', linewidth=4)\n",
    "plt.xlabel('Date')\n",
    "plt.ylabel('Electricity Usage(Megawatthours)')\n",
    "plt.legend(['My Prediction', 'True usage'])\n",
    "ax.xaxis.set_major_locator(MultipleLocator(24))\n",
    "ax.set_xticklabels(['', 'Oct.13', 'Oct.14', 'Oct.15', 'Oct.16', 'Oct.17'])\n",
    "plt.ylim([0,65000])\n",
    "plt.xlim([0,120])\n",
    "plt.show()\n"
   ]
  },
  {
   "cell_type": "code",
   "execution_count": null,
   "metadata": {},
   "outputs": [],
   "source": []
  }
 ],
 "metadata": {
  "kernelspec": {
   "display_name": "Python 3",
   "language": "python",
   "name": "python3"
  },
  "language_info": {
   "codemirror_mode": {
    "name": "ipython",
    "version": 3
   },
   "file_extension": ".py",
   "mimetype": "text/x-python",
   "name": "python",
   "nbconvert_exporter": "python",
   "pygments_lexer": "ipython3",
   "version": "3.5.2"
  }
 },
 "nbformat": 4,
 "nbformat_minor": 2
}
