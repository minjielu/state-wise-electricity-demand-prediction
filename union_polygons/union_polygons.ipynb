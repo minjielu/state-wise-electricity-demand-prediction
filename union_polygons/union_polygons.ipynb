{
 "cells": [
  {
   "cell_type": "code",
   "execution_count": 3,
   "metadata": {},
   "outputs": [],
   "source": [
    "import json\n",
    "import geojson\n",
    "from functools import partial\n",
    "import shapely.geometry\n",
    "from shapely.geometry import Polygon\n",
    "import shapely.ops"
   ]
  },
  {
   "cell_type": "code",
   "execution_count": 56,
   "metadata": {},
   "outputs": [
    {
     "name": "stdout",
     "output_type": "stream",
     "text": [
      "total number of lower states: 48\n"
     ]
    }
   ],
   "source": [
    "# reading into two geojson objects, in a GCS (WGS84)\n",
    "with open('us-states.json') as geojson:\n",
    "    poly_geojson = json.load(geojson)\n",
    "\n",
    "elec_regions = {'NW':{'WA','OR','NV','MT','ID','WY','UT','CO'},\n",
    "               'CAL':{'CA'},\n",
    "               'SW':{'AZ','NM'},\n",
    "               'CENT':{'ND','SD','NE','KS','OK'},\n",
    "               'CAR':{'NC','SC'},\n",
    "               'FLA':{'FL'},\n",
    "               'MIDA':{'OH','PA','WV','VA','MD','DE','NJ'},\n",
    "               'MIDW':{'MN','IA','MO','AR','LA','WI','IL','MI','IN'},\n",
    "               'NE':{'VT','NH','MA','CT','RI','ME'},\n",
    "               'NY':{'NY'},\n",
    "               'SE':{'MS','AL','GA'},\n",
    "               'TEN':{'KY','TN'},\n",
    "               'TEX':{'TX'}}\n",
    "\n",
    "# Verify the total number of states.\n",
    "tot_states = sum([len(v) for _,v in elec_regions.items()])\n",
    "print('total number of lower states: {}'.format(tot_states))\n",
    "\n",
    "elec_regions_reversed = {s:k for k,v in elec_regions.items() for s in v}"
   ]
  },
  {
   "cell_type": "code",
   "execution_count": 57,
   "metadata": {},
   "outputs": [],
   "source": [
    "merged_polygons = {k:Polygon() for k,_ in elec_regions.items()}"
   ]
  },
  {
   "cell_type": "code",
   "execution_count": 58,
   "metadata": {
    "scrolled": true
   },
   "outputs": [],
   "source": [
    "# Union Polygons\n",
    "for state in poly_geojson['features']:\n",
    "    state_abb = state['properties']['name']\n",
    "    if state_abb in elec_regions_reversed:\n",
    "        merged_polygons[elec_regions_reversed[state_abb]] = merged_polygons[elec_regions_reversed[state_abb]].union(shapely.geometry.asShape(state['geometry']))"
   ]
  },
  {
   "cell_type": "code",
   "execution_count": 64,
   "metadata": {},
   "outputs": [],
   "source": [
    "features = []\n",
    "ind = 1\n",
    "for k,v in merged_polygons.items():\n",
    "    features.append({'type':'Feature', 'id':str(ind), 'properties':{'name':k}, 'geometry':shapely.geometry.mapping(v)})"
   ]
  },
  {
   "cell_type": "code",
   "execution_count": 65,
   "metadata": {},
   "outputs": [],
   "source": [
    "new_geojson = {'type':'FeatureCollection','features':features}\n",
    "with open('merged_states.json', 'w') as outfile:\n",
    "   json.dump(new_geojson, outfile)\n",
    "outfile.close()"
   ]
  },
  {
   "cell_type": "code",
   "execution_count": null,
   "metadata": {},
   "outputs": [],
   "source": []
  }
 ],
 "metadata": {
  "kernelspec": {
   "display_name": "Python 3",
   "language": "python",
   "name": "python3"
  },
  "language_info": {
   "codemirror_mode": {
    "name": "ipython",
    "version": 3
   },
   "file_extension": ".py",
   "mimetype": "text/x-python",
   "name": "python",
   "nbconvert_exporter": "python",
   "pygments_lexer": "ipython3",
   "version": "3.5.2"
  }
 },
 "nbformat": 4,
 "nbformat_minor": 2
}
