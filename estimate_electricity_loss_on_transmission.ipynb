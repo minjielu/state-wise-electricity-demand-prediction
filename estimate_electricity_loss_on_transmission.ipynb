{
 "cells": [
  {
   "cell_type": "code",
   "execution_count": 1,
   "metadata": {},
   "outputs": [],
   "source": [
    "import pandas as pd"
   ]
  },
  {
   "cell_type": "code",
   "execution_count": 2,
   "metadata": {},
   "outputs": [],
   "source": [
    "annual_generation = pd.read_excel('electricity_data/annual_generation_state.xls', header=1)"
   ]
  },
  {
   "cell_type": "code",
   "execution_count": 3,
   "metadata": {},
   "outputs": [],
   "source": [
    "price = pd.read_excel('electricity_data/avgprice_annual.xlsx', header=1)"
   ]
  },
  {
   "cell_type": "code",
   "execution_count": 7,
   "metadata": {},
   "outputs": [],
   "source": [
    "operations = pd.read_excel('detailed_electricity_data/f8612016/Operational_Data_2016.xlsx', header=2)"
   ]
  },
  {
   "cell_type": "code",
   "execution_count": 9,
   "metadata": {},
   "outputs": [
    {
     "data": {
      "text/plain": [
       "Index(['Data Year', 'Utility Number', 'Utility Name', 'State',\n",
       "       'Ownership Type', 'NERC Region', 'Summer Peak Demand',\n",
       "       'Winter Peak Demand', 'Net Generation', 'Wholesale Power Purchases',\n",
       "       'Exchange Energy Received', 'Exchange Energy Delivered',\n",
       "       'Net Power Exchanged', 'Wheeled Power Received',\n",
       "       'Wheeled Power Delivered', 'Net Wheeled Power',\n",
       "       'Transmission by Other Losses', 'Total Sources', 'Retail Sales',\n",
       "       'Sales for Resale', 'Furnished without Charge',\n",
       "       'Consumed by Respondent without Charge', 'Total Energy Losses',\n",
       "       'Total Disposition', 'From Retail Sales', 'From Delivery Customers',\n",
       "       'From Sales for Resale', 'From Credits or Adjustments',\n",
       "       'From Transmission', 'From Other', 'Total',\n",
       "       'Data Type\\nO = Observed\\nI = Imputed'],\n",
       "      dtype='object')"
      ]
     },
     "execution_count": 9,
     "metadata": {},
     "output_type": "execute_result"
    }
   ],
   "source": [
    "operations.columns"
   ]
  },
  {
   "cell_type": "code",
   "execution_count": 15,
   "metadata": {},
   "outputs": [],
   "source": [
    "operations['Wheeled Power Received'] = operations['Wheeled Power Received'].replace('.', 0)\n",
    "operations['Wheeled Power Delivered'] = operations['Wheeled Power Delivered'].replace('.', 0)"
   ]
  },
  {
   "cell_type": "code",
   "execution_count": 16,
   "metadata": {},
   "outputs": [],
   "source": [
    "wheeled_electricity = operations['Wheeled Power Received'].sum()+operations['Wheeled Power Delivered'].sum()"
   ]
  },
  {
   "cell_type": "code",
   "execution_count": 21,
   "metadata": {},
   "outputs": [],
   "source": [
    "mean_price = price.loc[price['Year'] == 2016, 'Total'].mean()"
   ]
  },
  {
   "cell_type": "code",
   "execution_count": 22,
   "metadata": {},
   "outputs": [
    {
     "data": {
      "text/plain": [
       "Index(['YEAR', 'STATE', 'TYPE OF PRODUCER', 'ENERGY SOURCE',\n",
       "       'GENERATION (Megawatthours)'],\n",
       "      dtype='object')"
      ]
     },
     "execution_count": 22,
     "metadata": {},
     "output_type": "execute_result"
    }
   ],
   "source": [
    "annual_generation.columns"
   ]
  },
  {
   "cell_type": "code",
   "execution_count": 24,
   "metadata": {},
   "outputs": [],
   "source": [
    "total_gen = annual_generation.loc[annual_generation['YEAR'] == 2016, 'GENERATION (Megawatthours)'].sum()"
   ]
  },
  {
   "cell_type": "markdown",
   "metadata": {},
   "source": [
    "wheeled_electricity should be in megawattshours, mean_price should be in cents/kilowattshours, total_gen is in megawattshours"
   ]
  },
  {
   "cell_type": "code",
   "execution_count": 34,
   "metadata": {},
   "outputs": [
    {
     "name": "stdout",
     "output_type": "stream",
     "text": [
      "percentage wasted: 0.0010889180760758645\n"
     ]
    }
   ],
   "source": [
    "print('percentage wasted: {}'.format(wheeled_electricity*0.027/total_gen))"
   ]
  },
  {
   "cell_type": "code",
   "execution_count": 35,
   "metadata": {},
   "outputs": [
    {
     "data": {
      "text/plain": [
       "3310309324.172997"
      ]
     },
     "execution_count": 35,
     "metadata": {},
     "output_type": "execute_result"
    }
   ],
   "source": [
    "wheeled_electricity*0.027*mean_price*10"
   ]
  },
  {
   "cell_type": "code",
   "execution_count": 30,
   "metadata": {},
   "outputs": [
    {
     "data": {
      "text/plain": [
       "32613399873.0"
      ]
     },
     "execution_count": 30,
     "metadata": {},
     "output_type": "execute_result"
    }
   ],
   "source": [
    "total_gen"
   ]
  },
  {
   "cell_type": "code",
   "execution_count": 31,
   "metadata": {},
   "outputs": [
    {
     "data": {
      "text/plain": [
       "1315308172"
      ]
     },
     "execution_count": 31,
     "metadata": {},
     "output_type": "execute_result"
    }
   ],
   "source": [
    "wheeled_electricity"
   ]
  },
  {
   "cell_type": "code",
   "execution_count": null,
   "metadata": {},
   "outputs": [],
   "source": []
  }
 ],
 "metadata": {
  "kernelspec": {
   "display_name": "Python 3",
   "language": "python",
   "name": "python3"
  },
  "language_info": {
   "codemirror_mode": {
    "name": "ipython",
    "version": 3
   },
   "file_extension": ".py",
   "mimetype": "text/x-python",
   "name": "python",
   "nbconvert_exporter": "python",
   "pygments_lexer": "ipython3",
   "version": "3.5.2"
  }
 },
 "nbformat": 4,
 "nbformat_minor": 2
}
