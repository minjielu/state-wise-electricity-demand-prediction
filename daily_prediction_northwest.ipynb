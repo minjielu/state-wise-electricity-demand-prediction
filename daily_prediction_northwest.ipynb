{
 "cells": [
  {
   "cell_type": "markdown",
   "metadata": {},
   "source": [
    "## Get the electricity data for the past three days"
   ]
  },
  {
   "cell_type": "code",
   "execution_count": 1,
   "metadata": {},
   "outputs": [],
   "source": [
    "import requests as rq\n",
    "import pandas as pd\n",
    "import numpy as np\n",
    "import pickle\n",
    "from datetime import datetime, timedelta\n",
    "import matplotlib.pyplot as plt\n",
    "from matplotlib.ticker import MultipleLocator"
   ]
  },
  {
   "cell_type": "code",
   "execution_count": 2,
   "metadata": {},
   "outputs": [],
   "source": [
    "pred_start = datetime(2019,10,25,0,6,0)\n",
    "pred_end = datetime(2019,10,30,0,6,0)\n",
    "start_day = 0\n",
    "end_day = 5"
   ]
  },
  {
   "cell_type": "code",
   "execution_count": 3,
   "metadata": {},
   "outputs": [],
   "source": [
    "# Current time\n",
    "# now = datetime.now()\n",
    "now = pred_end-timedelta(days=1)\n",
    "# Time three days ago\n",
    "three_days_ago = pred_start-timedelta(days=3)"
   ]
  },
  {
   "cell_type": "code",
   "execution_count": 4,
   "metadata": {},
   "outputs": [],
   "source": [
    "end = now.strftime('%Y%m%dT%H-%M')\n",
    "start = three_days_ago.strftime('%Y%m%dT%H-%M')\n",
    "key = '8a6315646d5695061696c71a041c42c0'\n",
    "series_id = 'EBA.NW-ALL.NG.HL'\n",
    "data = rq.get(\"http://api.eia.gov/series/?api_key={}&series_id={}&start={}&end={}\".format(key, series_id, start, end))"
   ]
  },
  {
   "cell_type": "code",
   "execution_count": 5,
   "metadata": {},
   "outputs": [],
   "source": [
    "usage_series_id = 'EBA.NW-ALL.D.HL'\n",
    "usage_data = rq.get(\"http://api.eia.gov/series/?api_key={}&series_id={}&start={}&end={}\".format(key, usage_series_id, start, end))"
   ]
  },
  {
   "cell_type": "code",
   "execution_count": 6,
   "metadata": {},
   "outputs": [],
   "source": [
    "hourly_demand = data.json()['series'][0]['data']\n",
    "electricity_demand = pd.DataFrame(hourly_demand, columns=['datetime','net_gen'])\n",
    "electricity_usage = pd.DataFrame(usage_data.json()['series'][0]['data'], columns=['datetime', 'usage'])\n",
    "electricity_demand = electricity_demand.merge(electricity_usage, how='right', left_on='datetime', right_on='datetime')\n",
    "electricity_demand = electricity_demand.sort_values(['datetime']).reset_index(drop=True)"
   ]
  },
  {
   "cell_type": "code",
   "execution_count": 7,
   "metadata": {},
   "outputs": [
    {
     "data": {
      "text/html": [
       "<div>\n",
       "<style scoped>\n",
       "    .dataframe tbody tr th:only-of-type {\n",
       "        vertical-align: middle;\n",
       "    }\n",
       "\n",
       "    .dataframe tbody tr th {\n",
       "        vertical-align: top;\n",
       "    }\n",
       "\n",
       "    .dataframe thead th {\n",
       "        text-align: right;\n",
       "    }\n",
       "</style>\n",
       "<table border=\"1\" class=\"dataframe\">\n",
       "  <thead>\n",
       "    <tr style=\"text-align: right;\">\n",
       "      <th></th>\n",
       "      <th>datetime</th>\n",
       "      <th>net_gen</th>\n",
       "      <th>usage</th>\n",
       "    </tr>\n",
       "  </thead>\n",
       "  <tbody>\n",
       "    <tr>\n",
       "      <th>0</th>\n",
       "      <td>20191022T00-06</td>\n",
       "      <td>36200</td>\n",
       "      <td>34997</td>\n",
       "    </tr>\n",
       "    <tr>\n",
       "      <th>1</th>\n",
       "      <td>20191022T01-06</td>\n",
       "      <td>34624</td>\n",
       "      <td>33145</td>\n",
       "    </tr>\n",
       "    <tr>\n",
       "      <th>2</th>\n",
       "      <td>20191022T02-06</td>\n",
       "      <td>34335</td>\n",
       "      <td>32058</td>\n",
       "    </tr>\n",
       "    <tr>\n",
       "      <th>3</th>\n",
       "      <td>20191022T03-06</td>\n",
       "      <td>33368</td>\n",
       "      <td>31359</td>\n",
       "    </tr>\n",
       "    <tr>\n",
       "      <th>4</th>\n",
       "      <td>20191022T04-06</td>\n",
       "      <td>32662</td>\n",
       "      <td>31024</td>\n",
       "    </tr>\n",
       "  </tbody>\n",
       "</table>\n",
       "</div>"
      ],
      "text/plain": [
       "         datetime  net_gen  usage\n",
       "0  20191022T00-06    36200  34997\n",
       "1  20191022T01-06    34624  33145\n",
       "2  20191022T02-06    34335  32058\n",
       "3  20191022T03-06    33368  31359\n",
       "4  20191022T04-06    32662  31024"
      ]
     },
     "execution_count": 7,
     "metadata": {},
     "output_type": "execute_result"
    }
   ],
   "source": [
    "electricity_demand.head(5)"
   ]
  },
  {
   "cell_type": "code",
   "execution_count": 8,
   "metadata": {},
   "outputs": [
    {
     "data": {
      "text/html": [
       "<div>\n",
       "<style scoped>\n",
       "    .dataframe tbody tr th:only-of-type {\n",
       "        vertical-align: middle;\n",
       "    }\n",
       "\n",
       "    .dataframe tbody tr th {\n",
       "        vertical-align: top;\n",
       "    }\n",
       "\n",
       "    .dataframe thead th {\n",
       "        text-align: right;\n",
       "    }\n",
       "</style>\n",
       "<table border=\"1\" class=\"dataframe\">\n",
       "  <thead>\n",
       "    <tr style=\"text-align: right;\">\n",
       "      <th></th>\n",
       "      <th>datetime</th>\n",
       "      <th>net_gen</th>\n",
       "      <th>usage</th>\n",
       "    </tr>\n",
       "  </thead>\n",
       "  <tbody>\n",
       "    <tr>\n",
       "      <th>168</th>\n",
       "      <td>20191029T00-06</td>\n",
       "      <td>38427</td>\n",
       "      <td>38977</td>\n",
       "    </tr>\n",
       "  </tbody>\n",
       "</table>\n",
       "</div>"
      ],
      "text/plain": [
       "           datetime  net_gen  usage\n",
       "168  20191029T00-06    38427  38977"
      ]
     },
     "execution_count": 8,
     "metadata": {},
     "output_type": "execute_result"
    }
   ],
   "source": [
    "electricity_demand.tail(1)"
   ]
  },
  {
   "cell_type": "code",
   "execution_count": 9,
   "metadata": {},
   "outputs": [],
   "source": [
    "def diff_in_hours(x):\n",
    "    # This function returns the number of hours from 2015-07-01 01:05:00\n",
    "    minutes = (x-datetime(2015, 7, 1, 1, 6, 0)).total_seconds()/60\n",
    "    if minutes % 60 > 30:\n",
    "        return minutes/60 + 1\n",
    "    else:\n",
    "        return minutes/60\n",
    "    \n",
    "df_for_periodic_model = electricity_demand.copy()\n",
    "df_for_periodic_model['datetime'] = pd.to_datetime(df_for_periodic_model['datetime'], format='%Y%m%dT%H-%M')\n",
    "df_for_periodic_model['hours'] = df_for_periodic_model['datetime'].apply(lambda x: diff_in_hours(x))\n",
    "\n",
    "# Construct the sin and cos columns.\n",
    "def trig(func, period, x):\n",
    "    # This function returns a sin or x value of x.\n",
    "    return func(2*np.pi*x/period)\n",
    "\n",
    "# Yearly period.\n",
    "df_for_periodic_model['yearly_sin'] = df_for_periodic_model['hours'].apply(lambda x: trig(np.sin, 365.25*24, x))\n",
    "df_for_periodic_model['yearly_cos'] = df_for_periodic_model['hours'].apply(lambda x: trig(np.cos, 365.25*24, x))\n",
    "df_for_periodic_model['yearly_2_sin'] = df_for_periodic_model['hours'].apply(lambda x: trig(np.sin, 365.25*24/2, x)) # Starting from here are harmonics\n",
    "df_for_periodic_model['yearly_2_cos'] = df_for_periodic_model['hours'].apply(lambda x: trig(np.cos, 365.25*24/2, x))\n",
    "df_for_periodic_model['yearly_3_sin'] = df_for_periodic_model['hours'].apply(lambda x: trig(np.sin, 365.25*24/3, x))\n",
    "df_for_periodic_model['yearly_3_cos'] = df_for_periodic_model['hours'].apply(lambda x: trig(np.cos, 365.25*24/3, x))\n",
    "# Weekly period.\n",
    "df_for_periodic_model['weekly_sin'] = df_for_periodic_model['hours'].apply(lambda x: trig(np.sin, 7*24, x))\n",
    "df_for_periodic_model['weekly_cos'] = df_for_periodic_model['hours'].apply(lambda x: trig(np.cos, 7*24, x))\n",
    "df_for_periodic_model['weekly_2_sin'] = df_for_periodic_model['hours'].apply(lambda x: trig(np.sin, 7*24/2, x))\n",
    "df_for_periodic_model['weekly_2_cos'] = df_for_periodic_model['hours'].apply(lambda x: trig(np.cos, 7*24/2, x))\n",
    "# Dayly period.\n",
    "df_for_periodic_model['dayly_sin'] = df_for_periodic_model['hours'].apply(lambda x: trig(np.sin, 24, x))\n",
    "df_for_periodic_model['dayly_cos'] = df_for_periodic_model['hours'].apply(lambda x: trig(np.cos, 24, x))\n",
    "df_for_periodic_model['dayly_2_sin'] = df_for_periodic_model['hours'].apply(lambda x: trig(np.sin, 24/2, x))\n",
    "df_for_periodic_model['dayly_2_cos'] = df_for_periodic_model['hours'].apply(lambda x: trig(np.cos, 24/2, x))\n",
    "df_for_periodic_model['dayly_3_sin'] = df_for_periodic_model['hours'].apply(lambda x: trig(np.sin, 24/3, x))\n",
    "df_for_periodic_model['dayly_3_cos'] = df_for_periodic_model['hours'].apply(lambda x: trig(np.cos, 24/3, x))\n",
    "df_for_periodic_model['dayly_4_sin'] = df_for_periodic_model['hours'].apply(lambda x: trig(np.sin, 24/4, x))\n",
    "df_for_periodic_model['dayly_4_cos'] = df_for_periodic_model['hours'].apply(lambda x: trig(np.cos, 24/4, x))\n",
    "\n",
    "# Produce the x^2 and X^3 term for the ridge regressor\n",
    "\n",
    "df_for_periodic_model['scaled_hours'] = df_for_periodic_model['hours']/100"
   ]
  },
  {
   "cell_type": "code",
   "execution_count": 10,
   "metadata": {},
   "outputs": [],
   "source": [
    "def trend(linear_trend, row):\n",
    "    return (row*linear_trend.coef_[0]+linear_trend.intercept_)*1e4 "
   ]
  },
  {
   "cell_type": "code",
   "execution_count": 11,
   "metadata": {},
   "outputs": [],
   "source": [
    "# load the linear trend model.\n",
    "with open('models/lr_yearly_trend_NW', 'rb') as file:\n",
    "    linear_trend = pickle.load(file)\n",
    "    \n",
    "# load the coefficient linear correction model.\n",
    "with open('models/lr_adjustement_coef_NW', 'rb') as file:\n",
    "    lr_coef = pickle.load(file)\n",
    "    \n",
    "# load the interception linear correction model.\n",
    "with open('models/lr_adjustement_intercept_NW', 'rb') as file:\n",
    "    lr_intercept = pickle.load(file)\n",
    "    \n",
    "# load the periodic model.\n",
    "with open('models/lr_periodic_NW', 'rb') as file:\n",
    "    lr_periodic = pickle.load(file)\n",
    "    \n",
    "# load the ar2 model.\n",
    "with open('models/lr_ar2_NW', 'rb') as file:\n",
    "    lr_ar2 = pickle.load(file)"
   ]
  },
  {
   "cell_type": "code",
   "execution_count": 12,
   "metadata": {},
   "outputs": [],
   "source": [
    "columns_trig = []\n",
    "for column in df_for_periodic_model.columns:\n",
    "    if column.endswith('sin') or column.endswith('cos'):\n",
    "        columns_trig.append(column)"
   ]
  },
  {
   "cell_type": "code",
   "execution_count": 13,
   "metadata": {},
   "outputs": [],
   "source": [
    "# Calculate the periodic part:\n",
    "X = df_for_periodic_model[columns_trig].values\n",
    "peri_part = lr_periodic.predict(X)"
   ]
  },
  {
   "cell_type": "code",
   "execution_count": 14,
   "metadata": {},
   "outputs": [],
   "source": [
    "df_for_periodic_model['trend'] = df_for_periodic_model['scaled_hours'].apply(lambda row: trend(linear_trend, row))\n",
    "\n",
    "df_for_periodic_model['periodic_pred'] = peri_part* \\\n",
    "            lr_coef.predict(df_for_periodic_model[columns_trig[:6]].values).reshape(-1) \\\n",
    "            + lr_intercept.predict(df_for_periodic_model[columns_trig[:6]].values).reshape(-1)\n",
    "    \n",
    "df_for_periodic_model['periodic_pred'] = df_for_periodic_model['periodic_pred'] + df_for_periodic_model['trend']"
   ]
  },
  {
   "cell_type": "code",
   "execution_count": 15,
   "metadata": {},
   "outputs": [],
   "source": [
    "# Calculate the residual.\n",
    "\n",
    "df_for_periodic_model['residual'] = df_for_periodic_model['usage'] - df_for_periodic_model['periodic_pred']"
   ]
  },
  {
   "cell_type": "markdown",
   "metadata": {},
   "source": [
    "## Make the time series prediction"
   ]
  },
  {
   "cell_type": "code",
   "execution_count": 16,
   "metadata": {},
   "outputs": [],
   "source": [
    "# The lastest time.\n",
    "\n",
    "df_pred = pd.DataFrame()\n",
    "\n",
    "df_pred['datetime'] = np.arange(pred_start, pred_end, timedelta(hours=1))"
   ]
  },
  {
   "cell_type": "code",
   "execution_count": 17,
   "metadata": {},
   "outputs": [],
   "source": [
    "# Calculate the prediction of the periodic model.\n",
    "df_pred['hours'] = df_pred['datetime'].apply(lambda x: diff_in_hours(x))\n",
    "\n",
    "# Yearly period.\n",
    "df_pred['yearly_sin'] = df_pred['hours'].apply(lambda x: trig(np.sin, 365.25*24, x))\n",
    "df_pred['yearly_cos'] = df_pred['hours'].apply(lambda x: trig(np.cos, 365.25*24, x))\n",
    "df_pred['yearly_2_sin'] = df_pred['hours'].apply(lambda x: trig(np.sin, 365.25*24/2, x)) # Starting from here are harmonics\n",
    "df_pred['yearly_2_cos'] = df_pred['hours'].apply(lambda x: trig(np.cos, 365.25*24/2, x))\n",
    "df_pred['yearly_3_sin'] = df_pred['hours'].apply(lambda x: trig(np.sin, 365.25*24/3, x))\n",
    "df_pred['yearly_3_cos'] = df_pred['hours'].apply(lambda x: trig(np.cos, 365.25*24/3, x))\n",
    "# Weekly period.\n",
    "df_pred['weekly_sin'] = df_pred['hours'].apply(lambda x: trig(np.sin, 7*24, x))\n",
    "df_pred['weekly_cos'] = df_pred['hours'].apply(lambda x: trig(np.cos, 7*24, x))\n",
    "df_pred['weekly_2_sin'] = df_pred['hours'].apply(lambda x: trig(np.sin, 7*24/2, x))\n",
    "df_pred['weekly_2_cos'] = df_pred['hours'].apply(lambda x: trig(np.cos, 7*24/2, x))\n",
    "# Dayly period.\n",
    "df_pred['dayly_sin'] = df_pred['hours'].apply(lambda x: trig(np.sin, 24, x))\n",
    "df_pred['dayly_cos'] = df_pred['hours'].apply(lambda x: trig(np.cos, 24, x))\n",
    "df_pred['dayly_2_sin'] = df_pred['hours'].apply(lambda x: trig(np.sin, 24/2, x))\n",
    "df_pred['dayly_2_cos'] = df_pred['hours'].apply(lambda x: trig(np.cos, 24/2, x))\n",
    "df_pred['dayly_3_sin'] = df_pred['hours'].apply(lambda x: trig(np.sin, 24/3, x))\n",
    "df_pred['dayly_3_cos'] = df_pred['hours'].apply(lambda x: trig(np.cos, 24/3, x))\n",
    "df_pred['dayly_4_sin'] = df_pred['hours'].apply(lambda x: trig(np.sin, 24/4, x))\n",
    "df_pred['dayly_4_cos'] = df_pred['hours'].apply(lambda x: trig(np.cos, 24/4, x))\n",
    "\n",
    "# Produce the x^2 and X^3 term for the ridge regressor\n",
    "\n",
    "df_pred['scaled_hours'] = df_pred['hours']/100\n",
    "\n",
    "# Calculate the periodic part:\n",
    "X = df_pred[columns_trig].values\n",
    "peri_part = lr_periodic.predict(X)\n",
    "\n",
    "df_pred['trend'] = df_pred['scaled_hours'].apply(lambda row: trend(linear_trend, row))\n",
    "\n",
    "df_pred['periodic_pred'] = peri_part* \\\n",
    "            lr_coef.predict(df_pred[columns_trig[:6]].values).reshape(-1) \\\n",
    "            + lr_intercept.predict(df_pred[columns_trig[:6]].values).reshape(-1)\n",
    "    \n",
    "df_pred['periodic_pred'] = df_pred['periodic_pred'] + df_pred['trend']"
   ]
  },
  {
   "cell_type": "code",
   "execution_count": 18,
   "metadata": {},
   "outputs": [],
   "source": [
    "def apply_ar2(dt):\n",
    "    last_day = dt-timedelta(days=1)\n",
    "    last_last = last_day-timedelta(days=1)\n",
    "    r1 = df_for_periodic_model.loc[df_for_periodic_model['datetime'] == last_day, 'residual'].values[0]\n",
    "    r2 = df_for_periodic_model.loc[df_for_periodic_model['datetime'] == last_last, 'residual'].values[0]\n",
    "    return r2*lr_ar2.coef_[0] + r1*lr_ar2.coef_[1]"
   ]
  },
  {
   "cell_type": "code",
   "execution_count": 19,
   "metadata": {},
   "outputs": [
    {
     "data": {
      "text/html": [
       "<div>\n",
       "<style scoped>\n",
       "    .dataframe tbody tr th:only-of-type {\n",
       "        vertical-align: middle;\n",
       "    }\n",
       "\n",
       "    .dataframe tbody tr th {\n",
       "        vertical-align: top;\n",
       "    }\n",
       "\n",
       "    .dataframe thead th {\n",
       "        text-align: right;\n",
       "    }\n",
       "</style>\n",
       "<table border=\"1\" class=\"dataframe\">\n",
       "  <thead>\n",
       "    <tr style=\"text-align: right;\">\n",
       "      <th></th>\n",
       "      <th>datetime</th>\n",
       "      <th>net_gen</th>\n",
       "      <th>usage</th>\n",
       "      <th>hours</th>\n",
       "      <th>yearly_sin</th>\n",
       "      <th>yearly_cos</th>\n",
       "      <th>yearly_2_sin</th>\n",
       "      <th>yearly_2_cos</th>\n",
       "      <th>yearly_3_sin</th>\n",
       "      <th>yearly_3_cos</th>\n",
       "      <th>...</th>\n",
       "      <th>dayly_2_sin</th>\n",
       "      <th>dayly_2_cos</th>\n",
       "      <th>dayly_3_sin</th>\n",
       "      <th>dayly_3_cos</th>\n",
       "      <th>dayly_4_sin</th>\n",
       "      <th>dayly_4_cos</th>\n",
       "      <th>scaled_hours</th>\n",
       "      <th>trend</th>\n",
       "      <th>periodic_pred</th>\n",
       "      <th>residual</th>\n",
       "    </tr>\n",
       "  </thead>\n",
       "  <tbody>\n",
       "    <tr>\n",
       "      <th>168</th>\n",
       "      <td>2019-10-29 00:06:00</td>\n",
       "      <td>38427</td>\n",
       "      <td>38977</td>\n",
       "      <td>37943.0</td>\n",
       "      <td>0.881022</td>\n",
       "      <td>-0.473075</td>\n",
       "      <td>-0.833579</td>\n",
       "      <td>-0.5524</td>\n",
       "      <td>-0.092331</td>\n",
       "      <td>0.995728</td>\n",
       "      <td>...</td>\n",
       "      <td>-0.5</td>\n",
       "      <td>0.866025</td>\n",
       "      <td>-0.707107</td>\n",
       "      <td>0.707107</td>\n",
       "      <td>-0.866025</td>\n",
       "      <td>0.5</td>\n",
       "      <td>379.43</td>\n",
       "      <td>40263.236145</td>\n",
       "      <td>36444.803015</td>\n",
       "      <td>2532.196985</td>\n",
       "    </tr>\n",
       "  </tbody>\n",
       "</table>\n",
       "<p>1 rows × 26 columns</p>\n",
       "</div>"
      ],
      "text/plain": [
       "               datetime  net_gen  usage    hours  yearly_sin  yearly_cos  \\\n",
       "168 2019-10-29 00:06:00    38427  38977  37943.0    0.881022   -0.473075   \n",
       "\n",
       "     yearly_2_sin  yearly_2_cos  yearly_3_sin  yearly_3_cos  ...  dayly_2_sin  \\\n",
       "168     -0.833579       -0.5524     -0.092331      0.995728  ...         -0.5   \n",
       "\n",
       "     dayly_2_cos  dayly_3_sin  dayly_3_cos  dayly_4_sin  dayly_4_cos  \\\n",
       "168     0.866025    -0.707107     0.707107    -0.866025          0.5   \n",
       "\n",
       "     scaled_hours         trend  periodic_pred     residual  \n",
       "168        379.43  40263.236145   36444.803015  2532.196985  \n",
       "\n",
       "[1 rows x 26 columns]"
      ]
     },
     "execution_count": 19,
     "metadata": {},
     "output_type": "execute_result"
    }
   ],
   "source": [
    "df_for_periodic_model.tail(1)"
   ]
  },
  {
   "cell_type": "code",
   "execution_count": 20,
   "metadata": {},
   "outputs": [],
   "source": [
    "# The time series prediction\n",
    "df_pred['residual'] = df_pred['datetime'].apply(lambda dt: apply_ar2(dt))\n",
    "df_pred['ts_pred'] = df_pred['residual'] + df_pred['periodic_pred']"
   ]
  },
  {
   "cell_type": "markdown",
   "metadata": {},
   "source": [
    "## Make the random forest prediction"
   ]
  },
  {
   "cell_type": "code",
   "execution_count": 21,
   "metadata": {},
   "outputs": [],
   "source": [
    "# These temperatures start from 2019-10-13 00:00:00\n",
    "slc_last = [40,37,36,37,36,35,34,35,38,41,45,48,50,51,52,52,52,50,48,45,43,42,40,38] # 2019-10-24-20:00:00\n",
    "slc_last = [x for x in slc_last]\n",
    "\n",
    "redmond_last = [33,32,31,28,29,26,30,30,37,48,54,59,63,67,71,71,70,65,52,51,46,45,44,44]\n",
    "redmond_last = [x for x in redmond_last]\n",
    "\n",
    "denver_last = [29,29,29,29,28,29,29,29,29,30,31,32,34,34,38,39,40,40,37,33,29,30,27,25]\n",
    "denver_last = [x for x in denver_last]\n",
    "\n",
    "boise_last = [42,38,37,36,36,35,34,34,33,35,40,46,51,52,54,56,58,59,58,56,52,48,46,45]\n",
    "\n",
    "billings_last = [34,33,32,32,31,29,30,30,31,32,36,40,44,45,47,48,49,48,47,45,43,43,42,41]\n",
    "pocatello_last = [34,32,32,30,28,29,28,29,32,38,40,44,48,49,50,50,50,47,43,41,41,40,39,38]\n",
    "casper_last = [26,26,26,27,27,24,21,22,23,29,30,33,36,39,42,43,44,41,40,33,29,28,29,31]\n",
    "pueblo_last = [33,33,33,33,33,32,32,32,32,32,35,34,38,40,40,42,43,41,37,34,34,31,28,25]\n",
    "portland_last = [49,47,46,45,44,44,42,41,44,47,50,53,57,60,62,65,66,68,65,61,58,56,54,53]\n",
    "seattle_last = [45,44,44,44,43,43,43,43,45,47,50,52,55,58,58,60,61,61,59,56,55,55,55,54]\n"
   ]
  },
  {
   "cell_type": "code",
   "execution_count": 22,
   "metadata": {},
   "outputs": [],
   "source": [
    "# These three temperatures start from 2019-10-14 00:00:00\n",
    "slc_pred = \\\n",
    "            [36,36,36,36,34,34,34,34,37,43,48,52,55,58,61,61,60,57,57,53,50,48,47,46]+ \\\n",
    "            [45,44,44,42,42,41,41,40,44,53,58,61,62,61,61,59,58,54,52,47,43,41,38,35]+ \\\n",
    "            [36,36,34,34,33,32,32,31,33,35,37,39,40,41,41,41,41,38,37,34,31,28,27,27]+ \\\n",
    "            [26,25,23,23,22,22,21,21,23,27,31,33,36,37,38,39,39,38,37,34,33,32,32,32]+ \\\n",
    "            [31,31,31,30,29,29,28,26,26,26,33,33,33,33,33,31,31,29,26,23,20,18,17,15]# ends at 2019-10-29-00:00:00 (include)\n",
    "slc_pred = [x for x in slc_pred]\n",
    "\n",
    "redmond_pred = \\\n",
    "                [44,44,43,43,42,40,39,41,47,55,63,69,72,73,72,69,66,62,57,53,49,46,43,40]+ \\\n",
    "                [38,36,35,33,31,29,27,28,32,37,43,46,47,48,49,49,48,45,42,39,37,35,34,32]+ \\\n",
    "                [32,31,30,29,27,25,23,24,28,33,39,43,45,47,48,48,47,43,39,35,32,31,30,29]+ \\\n",
    "                [25,24,24,23,22,21,20,22,28,36,43,48,51,53,54,54,52,48,44,39,37,35,34,32]+ \\\n",
    "                [24,22,20,18,16,12,9,9,12,18,24,28,31,33,35,36,34,29,23,17,13,12,11,11]\n",
    "redmond_pred = [x for x in redmond_pred]\n",
    "\n",
    "denver_pred = \\\n",
    "                [23,24,24,23,23,23,25,27,32,38,45,51,56,59,60,60,58,54,50,46,43,42,40,39]+ \\\n",
    "                [38,38,37,37,36,36,37,39,43,50,57,63,67,69,69,68,65,62,57,52,48,43,40,39]+ \\\n",
    "                [36,34,33,31,29,28,27,27,26,26,26,26,27,28,29,29,28,26,24,22,20,40,39,38]+ \\\n",
    "                [19,18,17,17,16,16,16,16,17,19,21,23,25,27,28,28,27,25,22,18,21,20,20,19]+ \\\n",
    "                [16,17,16,15,14,13,13,14,17,18,19,20,20,20,20,19,19,16,14,13,11,19,17,16]\n",
    "denver_pred = [x for x in denver_pred]\n",
    "\n",
    "boise_pred = \\\n",
    "                [43,42,41,40,39,39,38,37,39,45,50,55,59,61,64,65,65,63,60,56,53,52,50,48]+ \\\n",
    "                [48,46,44,42,40,39,36,34,34,37,41,42,45,47,48,48,48,46,45,41,39,37,37,35]+ \\\n",
    "                [33,32,30,29,28,27,26,24,25,30,34,37,40,42,44,44,45,42,39,35,31,29,27,26]+ \\\n",
    "                [25,24,22,21,20,20,20,20,21,26,31,36,38,40,42,44,44,43,42,39,37,35,34,32]+ \\\n",
    "                [29,27,25,24,22,22,20,19,18,21,24,27,29,32,33,34,34,32,30,26,23,21,20,19]\n",
    "boise_pred = [x for x in boise_pred]\n",
    "\n",
    "billings_pred = \\\n",
    "                [39,39,37,37,37,37,36,37,41,47,53,59,63,66,67,66,66,61,59,57,54,52,52,50]+ \\\n",
    "                [48,47,46,44,40,37,36,34,34,34,36,36,37,37,37,37,37,35,33,31,30,29,28,26]+ \\\n",
    "                [24,23,22,21,20,19,19,18,18,19,24,25,28,30,31,31,31,26,23,21,21,20,18,18]+ \\\n",
    "                [20,20,19,19,20,20,20,20,22,23,26,26,26,26,24,24,23,19,18,16,15,14,12,12]+ \\\n",
    "                [11,11,10,9,8,7,6,6,7,10,13,15,17,18,19,20,19,17,13,11,10,10,9,7]\n",
    "billings_pred = [x for x in billings_pred]\n",
    "\n",
    "pocatello_pred = \\\n",
    "                [37,36,35,34,34,33,32,32,34,38,44,50,55,58,59,60,60,58,56,53,50,49,48,48]+ \\\n",
    "                [47,47,47,46,45,43,42,41,40,40,40,40,40,41,41,41,40,38,37,35,34,32,31,30]+ \\\n",
    "                [31,30,29,28,27,25,24,23,23,24,26,28,29,30,30,31,29,29,27,24,22,21,20,20]+ \\\n",
    "                [22,20,19,18,17,17,17,18,20,23,26,29,32,33,34,35,35,35,34,33,31,30,29,27]+ \\\n",
    "                [23,21,19,18,16,14,13,12,12,13,15,18,20,21,22,23,23,22,20,18,16,15,14,13]\n",
    "pocatello_pred = [x for x in pocatello_pred]\n",
    "\n",
    "casper_pred = \\\n",
    "                [33,33,33,34,34,35,36,36,40,43,46,49,52,54,54,54,54,53,51,49,48,48,47,47]+ \\\n",
    "                [47,46,46,46,46,43,43,43,42,41,40,39,37,36,34,33,31,30,29,27,26,24,23,22]+ \\\n",
    "                [21,21,21,20,19,18,17,17,17,17,18,19,19,20,20,20,20,17,13,11,10,8,7,5]+ \\\n",
    "                [9,9,8,9,9,9,10,12,14,17,19,22,23,25,25,25,25,20,16,13,12,11,10,9]+ \\\n",
    "                [9,9,8,8,7,7,7,7,7,7,7,7,7,7,7,7,8,5,2,0,-1,-2,-3,-4]\n",
    "casper_pred = [x for x in casper_pred]\n",
    "\n",
    "pueblo_pred = \\\n",
    "                [23,22,21,21,20,20,21,23,28,34,42,49,54,57,58,58,56,53,50,46,43,42,41,39]+ \\\n",
    "                [38,37,35,34,33,33,34,36,41,48,56,63,68,71,71,69,65,68,64,59,54,51,48,46]+ \\\n",
    "                [44,43,41,39,38,36,35,33,32,32,33,34,34,35,35,35,35,34,33,32,32,31,30,29]+ \\\n",
    "                [28,27,26,25,24,23,22,22,21,21,23,24,26,28,30,30,29,28,24,22,19,18,17,16]+ \\\n",
    "                [20,19,19,18,18,17,16,16,17,20,24,27,29,30,30,28,26,25,24,23,22,20,20,20]\n",
    "pueblo_pred = [x for x in pueblo_pred]\n",
    "\n",
    "portland_pred = \\\n",
    "                [51,51,50,50,48,47,47,48,50,52,55,57,60,59,58,56,56,53,50,48,47,46,45,44]+ \\\n",
    "                [48,47,46,46,46,46,46,46,47,49,51,51,53,55,56,56,56,54,51,49,48,47,46,45]+ \\\n",
    "                [43,42,41,40,39,39,39,39,41,44,48,51,53,54,55,54,54,52,49,47,46,44,43,42]+ \\\n",
    "                [42,41,40,39,39,39,39,38,41,44,47,50,53,54,55,56,55,53,49,47,46,45,43,42]+ \\\n",
    "                [40,39,38,36,34,33,32,31,33,35,36,40,42,44,44,44,43,41,39,37,36,35,34,33]\n",
    "portland_pred = [x for x in portland_pred]\n",
    "\n",
    "seattle_pred = \\\n",
    "                [54,54,53,54,53,52,52,51,51,52,53,55,55,55,55,56,56,55,53,52,51,51,50,50]+ \\\n",
    "                [47,47,46,46,45,45,45,45,46,47,48,50,51,51,52,52,51,51,50,49,48,48,47,46]+ \\\n",
    "                [45,44,43,43,43,42,41,40,42,43,46,48,48,48,49,50,51,51,48,46,45,44,44,43]+ \\\n",
    "                [42,42,41,40,40,40,40,39,41,43,46,48,49,50,50,51,50,48,47,46,45,45,43,42]+ \\\n",
    "                [38,37,36,36,35,34,34,34,35,37,41,45,45,46,47,48,46,44,42,40,37,36,36,35]\n",
    "seattle_pred = [x for x in seattle_pred]"
   ]
  },
  {
   "cell_type": "raw",
   "metadata": {},
   "source": [
    "# These three temperatures start from 2019-10-14 00:00:00\n",
    "slc_ibm_pred = \\\n",
    "        [28,27,26,25,24,23,22,22,25,28,31,33,36,38,39,40,40,39,38,36,35,34,33,34]+ \\\n",
    "        [33,32,32,33,33,32,30,29,29,27,26,25,26,26,26,26,26,24,21,18,17,15,15,15]# ends at 2019-10-29-00:00:00 (include)\n",
    "slc_ibm_pred = [x for x in slc_ibm_pred]\n",
    "        \n",
    "redmond_ibm_pred = \\\n",
    "        [23,22,21,20,19,18,19,20,29,37,42,47,51,53,55,54,51,46,42,39,36,33,31,29]+ \\\n",
    "        [23,22,21,20,19,18,19,20,29,37,42,47,51,53,55,54,51,46,42,39,36,33,31,29]\n",
    "redmond_ibm_pred = [x for x in redmond_ibm_pred]\n",
    "\n",
    "denver_ibm_pred = \\\n",
    "        [19,21,21,21,21,20,19,20,20,21,23,25,27,28,30,30,30,29,25,25,24,21,21,21]+ \\\n",
    "        [20,19,17,18,18,18,17,19,20,18,18,18,18,18,18,17,16,16,15,14,14,13,13,12]\n",
    "denver_ibm_pred = [x for x in denver_ibm_pred]\n",
    "\n",
    "boise_ibm_pred = \\\n",
    "        [29,28,27,26,24,24,24,24,25,30,34,37,39,41,42,43,44,43,41,39,37,36,34,32]+ \\\n",
    "        [31,29,28,27,27,25,25,25,25,27,28,30,32,33,35,36,36,35,32,28,25,24,22,21]\n",
    "boise_ibm_pred = [x for x in boise_ibm_pred]\n",
    "\n",
    "billings_ibm_pred = \\\n",
    "        [22,24,24,24,24,24,24,23,24,26,28,29,29,28,26,25,23,21,19,18,17,17,17,16]+ \\\n",
    "        [14,14,13,12,11,10,8,7,9,11,15,18,19,20,21,22,22,18,16,15,15,14,13,13]\n",
    "billings_ibm_pred = [x for x in billings_ibm_pred]\n",
    "\n",
    "pocatello_ibm_pred = \\\n",
    "        [19,16,15,14,13,13,13,14,18,23,27,30,32,34,34,34,33,32,31,29,28,27,26,25]+ \\\n",
    "        [24,20,17,16,15,13,11,10,11,13,14,16,20,22,23,24,23,21,17,14,12,11,10,9]\n",
    "pocatello_ibm_pred = [x for x in pocatello_ibm_pred]\n",
    "\n",
    "casper_ibm_pred = \\\n",
    "        [4,4,4,5,7,7,5,7,10,13,19,22,23,23,24,24,23,22,20,20,20,18,16,14]+ \\\n",
    "        [10,10,10,9,7,7,6,6,7,6,8,9,10,11,11,10,10,8,6,3,1,0,-2,-3]\n",
    "casper_ibm_pred = [x for x in casper_ibm_pred]\n",
    "\n",
    "pueblo_ibm_pred = \\\n",
    "        [27,27,27,26,24,23,23,22,22,22,22,24,24,26,27,28,27,24,21,18,18,18,18,18]+ \\\n",
    "        [19,19,19,19,20,20,19,20,22,25,26,27,28,28,28,25,24,23,22,20,20,20,19,18]\n",
    "pueblo_ibm_pred = [x for x in pueblo_ibm_pred]\n",
    "\n",
    "portland_ibm_pred = \\\n",
    "        [38,37,36,35,34,34,34,34,37,40,43,47,49,51,53,54,54,52,50,48,45,43,42,41]+ \\\n",
    "        [40,39,38,36,36,35,33,33,35,37,40,42,44,46,46,46,44,42,41,39,38,37,35,35]\n",
    "portland_ibm_pred = [x for x in portland_ibm_pred]\n",
    "\n",
    "seattle_ibm_pred = \\\n",
    "        [39,38,37,37,36,36,36,36,38,41,44,46,48,50,51,51,50,48,47,46,45,44,42,41]+ \\\n",
    "        [39,37,36,35,35,34,33,33,35,38,40,42,44,46,47,47,46,44,42,40,39,38,36,35]\n",
    "seattle_ibm_pred = [x for x in seattle_ibm_pred]\n",
    "\n",
    "slc_pred = np.concatenate((slc_pred[:72], slc_ibm_pred), axis=0)\n",
    "redmond_pred = np.concatenate((redmond_pred[:72], redmond_ibm_pred), axis=0)\n",
    "denver_pred = np.concatenate((denver_pred[:72], denver_ibm_pred), axis=0)\n",
    "boise_pred = np.concatenate((boise_pred[:72], boise_ibm_pred), axis=0)\n",
    "billings_pred = np.concatenate((billings_pred[:72], billings_ibm_pred), axis=0)\n",
    "pocatello_pred = np.concatenate((pocatello_pred[:72], pocatello_ibm_pred), axis=0)\n",
    "casper_pred = np.concatenate((casper_pred[:72], casper_ibm_pred), axis=0)\n",
    "pueblo_pred = np.concatenate((pueblo_pred[:72], pueblo_ibm_pred), axis=0)\n",
    "portland_pred = np.concatenate((portland_pred[:72], portland_ibm_pred), axis=0)\n",
    "seattle_pred = np.concatenate((seattle_pred[:72], seattle_ibm_pred), axis=0)"
   ]
  },
  {
   "cell_type": "code",
   "execution_count": 23,
   "metadata": {},
   "outputs": [],
   "source": [
    "slc_last = np.asarray(slc_last).reshape(-1,1)\n",
    "redmond_last = np.asarray(redmond_last).reshape(-1,1)\n",
    "denver_last = np.asarray(denver_last).reshape(-1,1)\n",
    "boise_last = np.asarray(boise_last).reshape(-1,1)\n",
    "billings_last = np.asarray(billings_last).reshape(-1,1)\n",
    "pocatello_last = np.asarray(pocatello_last).reshape(-1,1)\n",
    "casper_last = np.asarray(casper_last).reshape(-1,1)\n",
    "pueblo_last = np.asarray(pueblo_last).reshape(-1,1)\n",
    "portland_last = np.asarray(portland_last).reshape(-1,1)\n",
    "seattle_last = np.asarray(seattle_last).reshape(-1,1)\n",
    "\n",
    "slc_pred = np.asarray(slc_pred).reshape(-1,1)\n",
    "redmond_pred = np.asarray(redmond_pred).reshape(-1,1)\n",
    "denver_pred = np.asarray(denver_pred).reshape(-1,1)\n",
    "boise_pred = np.asarray(boise_pred).reshape(-1,1)\n",
    "billings_pred = np.asarray(billings_pred).reshape(-1,1)\n",
    "pocatello_pred = np.asarray(pocatello_pred).reshape(-1,1)\n",
    "casper_pred = np.asarray(casper_pred).reshape(-1,1)\n",
    "pueblo_pred = np.asarray(pueblo_pred).reshape(-1,1)\n",
    "portland_pred = np.asarray(portland_pred).reshape(-1,1)\n",
    "seattle_pred = np.asarray(seattle_pred).reshape(-1,1)"
   ]
  },
  {
   "cell_type": "code",
   "execution_count": 24,
   "metadata": {},
   "outputs": [],
   "source": [
    "def attenuate(X, beta):\n",
    "    X_new = (1-beta)*X[24:].copy()\n",
    "    for h in np.arange(1, 24):\n",
    "        X_new += beta**h*(1-beta)*X[24-h:-1*h]\n",
    "    return X_new"
   ]
  },
  {
   "cell_type": "code",
   "execution_count": 25,
   "metadata": {},
   "outputs": [],
   "source": [
    "'''\n",
    "# Use both the true temperature data and the prediction.\n",
    "x_last = np.concatenate([houston_last, dallas_last, san_antonio_last], axis=1)\n",
    "x_pred = np.concatenate([houston_pred, dallas_pred, san_antonio_pred], axis=1)\n",
    "x_tot = np.concatenate([x_last[start_day*24:(start_day+1)*24], x_pred[start_day*24:(start_day+1*24)]], axis=0).copy()\n",
    "x_new = attenuate(x_tot, 0.84)\n",
    "for day in np.arange(start_day+1, end_day):\n",
    "    x_tot = np.concatenate([x_last[day*24:(day+1)*24], x_pred[day*24:(day+1*24)]], axis=0).copy()\n",
    "    x_new = np.concatenate([x_new, attenuate(x_tot,0.84)], axis=0)\n",
    "'''\n",
    "# Use only the prediction data.\n",
    "x_last = np.concatenate([slc_last, redmond_last, denver_last, boise_last, billings_last, pocatello_last, casper_last, pueblo_last, portland_last, seattle_last], axis=1)\n",
    "x_pred = np.concatenate([slc_pred, redmond_pred, denver_pred, boise_pred, billings_pred, pocatello_pred, casper_pred, pueblo_pred, portland_pred, seattle_pred], axis=1)\n",
    "x_tot = np.concatenate([x_last[:24], x_pred], axis=0).copy()\n",
    "x_tot = x_tot[start_day*24:(end_day+1)*24]\n",
    "x_new = attenuate(x_tot, 0.84)"
   ]
  },
  {
   "cell_type": "code",
   "execution_count": 26,
   "metadata": {},
   "outputs": [],
   "source": [
    "# Load the random forest model.\n",
    "with open('models/xgb_pred_NW', 'rb') as file:\n",
    "    rf_pred = pickle.load(file)\n",
    "\n",
    "# Load the ensemble forest model.\n",
    "with open('models/rf_ensemble_NW', 'rb') as file:\n",
    "    rf_ensemble = pickle.load(file)\n",
    "    \n",
    "# Load the correction linear model.\n",
    "with open('models/lr_correction_NW', 'rb') as file:\n",
    "    lr_correction = pickle.load(file)"
   ]
  },
  {
   "cell_type": "code",
   "execution_count": 27,
   "metadata": {},
   "outputs": [],
   "source": [
    "# Calculate the time features\n",
    "df_pred['time'] = df_pred['datetime'].apply(lambda x:x.hour)\n",
    "df_pred['month'] = df_pred['datetime'].apply(lambda x:x.month)\n",
    "df_pred['weekday'] = df_pred['datetime'].apply(lambda x:x.weekday())\n",
    "df_pred['year'] = df_pred['datetime'].apply(lambda x:x.year)\n",
    "df_pred['day'] = df_pred['datetime'].apply(lambda x:x.day)"
   ]
  },
  {
   "cell_type": "code",
   "execution_count": 28,
   "metadata": {},
   "outputs": [],
   "source": [
    "x_tot = np.concatenate([df_pred[['time','weekday', 'month']].values, x_new], axis=1)\n",
    "df_pred['rf_pred'] = lr_correction.predict(rf_pred.predict(x_tot).reshape(-1,1))"
   ]
  },
  {
   "cell_type": "code",
   "execution_count": 29,
   "metadata": {},
   "outputs": [],
   "source": [
    "# Prepare data for the ensemble model.\n",
    "def usage_last_day(dt):\n",
    "    last_day = dt-timedelta(days=1)\n",
    "    return df_for_periodic_model.loc[df_for_periodic_model['datetime'] == last_day, 'usage'].values[0]\n",
    "\n",
    "def usage_day_before_last(dt):\n",
    "    last_last = dt-timedelta(days=2)\n",
    "    return df_for_periodic_model.loc[df_for_periodic_model['datetime'] == last_last, 'usage'].values[0]\n",
    "\n",
    "df_pred['t_2'] = df_pred['datetime'].apply(lambda dt: usage_last_day(dt))\n",
    "df_pred['t_1'] = df_pred['datetime'].apply(lambda dt: usage_day_before_last(dt))"
   ]
  },
  {
   "cell_type": "code",
   "execution_count": 30,
   "metadata": {},
   "outputs": [],
   "source": [
    "# Ensemble features related to temperatures\n",
    "# X_temp = np.concatenate((x_pred[start_day*24:end_day*24,:], x_last[start_day*24:end_day*24,:], x_pred[start_day*24:end_day*24,:]-x_last[start_day*24:end_day*24,:]), axis=1)\n",
    "x_tot = np.concatenate([x_last[:24], x_pred], axis=0).copy()\n",
    "X_temp = np.concatenate([x_tot[(start_day+1)*24:(end_day+1)*24],x_tot[start_day*24:end_day*24,:], x_tot[(start_day+1)*24:(end_day+1)*24,:]-x_tot[start_day*24:end_day*24,:]], axis=1)\n",
    "X_ensemble = df_pred[['time','month','weekday','ts_pred','rf_pred', 't_2', 't_1']].values\n",
    "ts_rf_diff = X_ensemble[:,3]-X_ensemble[:,4]\n",
    "X_ensemble = np.concatenate((X_ensemble, ts_rf_diff.reshape(-1,1), X_temp), axis=1)\n",
    "\n",
    "# Make the ensemble prediction\n",
    "df_pred['prediction'] = rf_ensemble.predict(X_ensemble)"
   ]
  },
  {
   "cell_type": "code",
   "execution_count": 31,
   "metadata": {},
   "outputs": [
    {
     "data": {
      "image/png": "[encoded data removed]",
      "text/plain": [
       "<Figure size 432x288 with 1 Axes>"
      ]
     },
     "metadata": {
      "needs_background": "light"
     },
     "output_type": "display_data"
    }
   ],
   "source": [
    "true_end = datetime.now().strftime('%Y%m%dT%H-%M')\n",
    "true_start = pred_start.strftime('%Y%m%dT%H-%M')\n",
    "series_id = 'EBA.NW-ALL.D.HL'\n",
    "true_data = rq.get(\"http://api.eia.gov/series/?api_key={}&series_id={}&start={}&end={}\".format(key, series_id, true_start, true_end))\n",
    "true_usage = np.asarray(true_data.json()['series'][0]['data'])[::-1,1]\n",
    "true_usage = [int(x) for x in true_usage]\n",
    "\n",
    "plt.plot(df_pred['prediction'])\n",
    "# plt.plot(df_pred['rf_pred'])\n",
    "# plt.plot(df_pred['ts_pred'])\n",
    "\n",
    "plt.plot(true_usage)\n",
    "plt.ylim([0,50000])\n",
    "plt.xlim([0,120])\n",
    "\n",
    "plt.show()"
   ]
  },
  {
   "cell_type": "code",
   "execution_count": 358,
   "metadata": {},
   "outputs": [
    {
     "data": {
      "text/plain": [
       "43269.805"
      ]
     },
     "execution_count": 358,
     "metadata": {},
     "output_type": "execute_result"
    }
   ],
   "source": [
    "max(df_pred['prediction'].values[48:72])"
   ]
  },
  {
   "cell_type": "code",
   "execution_count": 33,
   "metadata": {},
   "outputs": [
    {
     "data": {
      "text/plain": [
       "56994"
      ]
     },
     "execution_count": 33,
     "metadata": {},
     "output_type": "execute_result"
    }
   ],
   "source": [
    "max(true_usage)"
   ]
  },
  {
   "cell_type": "code",
   "execution_count": 205,
   "metadata": {},
   "outputs": [
    {
     "name": "stdout",
     "output_type": "stream",
     "text": [
      "-572.81640625\n",
      "-393.80859375\n",
      "1899.90625\n",
      "1774.0390625\n",
      "1427.0625\n",
      "2189.84375\n",
      "2041.69921875\n",
      "2258.02734375\n",
      "2235.73828125\n",
      "1404.3203125\n",
      "1924.02734375\n"
     ]
    },
    {
     "ename": "IndexError",
     "evalue": "list index out of range",
     "output_type": "error",
     "traceback": [
      "\u001b[0;31m---------------------------------------------------------------------------\u001b[0m",
      "\u001b[0;31mIndexError\u001b[0m                                Traceback (most recent call last)",
      "\u001b[0;32m<ipython-input-205-c09b4f4b55a9>\u001b[0m in \u001b[0;36m<module>\u001b[0;34m\u001b[0m\n\u001b[1;32m      1\u001b[0m \u001b[0;32mfor\u001b[0m \u001b[0mi\u001b[0m \u001b[0;32min\u001b[0m \u001b[0mnp\u001b[0m\u001b[0;34m.\u001b[0m\u001b[0marange\u001b[0m\u001b[0;34m(\u001b[0m\u001b[0;36m96\u001b[0m\u001b[0;34m,\u001b[0m\u001b[0;36m110\u001b[0m\u001b[0;34m)\u001b[0m\u001b[0;34m:\u001b[0m\u001b[0;34m\u001b[0m\u001b[0m\n\u001b[0;32m----> 2\u001b[0;31m     \u001b[0mprint\u001b[0m\u001b[0;34m(\u001b[0m\u001b[0mdf_pred\u001b[0m\u001b[0;34m[\u001b[0m\u001b[0;34m'prediction'\u001b[0m\u001b[0;34m]\u001b[0m\u001b[0;34m.\u001b[0m\u001b[0mvalues\u001b[0m\u001b[0;34m[\u001b[0m\u001b[0mi\u001b[0m\u001b[0;34m]\u001b[0m\u001b[0;34m-\u001b[0m\u001b[0mtrue_usage\u001b[0m\u001b[0;34m[\u001b[0m\u001b[0mi\u001b[0m\u001b[0;34m]\u001b[0m\u001b[0;34m)\u001b[0m\u001b[0;34m\u001b[0m\u001b[0m\n\u001b[0m",
      "\u001b[0;31mIndexError\u001b[0m: list index out of range"
     ]
    }
   ],
   "source": [
    "for i in np.arange(96,110):\n",
    "    print(df_pred['prediction'].values[i]-true_usage[i])"
   ]
  },
  {
   "cell_type": "code",
   "execution_count": 35,
   "metadata": {},
   "outputs": [],
   "source": [
    "# Substract 2 for each temperature, 37003.685834\n",
    "# original 37713.642811\n",
    "# only '700' difference which is acceptable.\n",
    "# houston+5 last, 48915.220417,\n",
    "# original, 46309.444140,"
   ]
  },
  {
   "cell_type": "markdown",
   "metadata": {},
   "source": [
    "### Beautified Plot"
   ]
  },
  {
   "cell_type": "code",
   "execution_count": 166,
   "metadata": {},
   "outputs": [
    {
     "data": {
      "text/plain": [
       "96"
      ]
     },
     "execution_count": 166,
     "metadata": {},
     "output_type": "execute_result"
    }
   ],
   "source": [
    "24*4"
   ]
  },
  {
   "cell_type": "code",
   "execution_count": 239,
   "metadata": {},
   "outputs": [
    {
     "data": {
      "image/png": "[encoded data removed]",
      "text/plain": [
       "<Figure size 864x360 with 1 Axes>"
      ]
     },
     "metadata": {
      "needs_background": "light"
     },
     "output_type": "display_data"
    }
   ],
   "source": [
    "true_end = datetime.now().strftime('%Y%m%dT%H-%M')\n",
    "true_start = pred_start.strftime('%Y%m%dT%H-%M')\n",
    "series_id = 'EBA.NW-ALL.D.HL'\n",
    "true_data = rq.get(\"http://api.eia.gov/series/?api_key={}&series_id={}&start={}&end={}\".format(key, series_id, true_start, true_end))\n",
    "true_usage = np.asarray(true_data.json()['series'][0]['data'])[::-1,1]\n",
    "true_usage = [int(x) for x in true_usage]\n",
    "\n",
    "series_id = 'EBA.NW-ALL.DF.HL'\n",
    "forecast_data = rq.get(\"http://api.eia.gov/series/?api_key={}&series_id={}&start={}&end={}\".format(key, series_id, true_start, true_end))\n",
    "demand_forecast = np.asarray(forecast_data.json()['series'][0]['data'])[::-1,1]\n",
    "demand_forecast = [int(x) for x in demand_forecast]\n",
    "\n",
    "fig,ax = plt.subplots(figsize=(12,5))\n",
    "plt.plot(df_pred['prediction'], 'g', linewidth=2)\n",
    "plt.plot(true_usage, 'b', linewidth=2)\n",
    "plt.plot(np.asarray(demand_forecast)+1900, 'lavender', linewidth=2)\n",
    "plt.xlabel('Date', fontsize=14)\n",
    "plt.ylabel('Megawatthours', fontsize=18)\n",
    "plt.legend(['My Prediction', 'True usage', 'Forecast by EIA'])\n",
    "ax.xaxis.set_major_locator(MultipleLocator(24))\n",
    "ax.set_xticklabels(['', '', 'Oct.26', 'Oct.27', 'Oct.28'])\n",
    "plt.ylim([0,65000])\n",
    "plt.xlim([0,96])\n",
    "\n",
    "# Adjust the display style\n",
    "plt.tick_params(which = 'both',top=True,right=True,direction='in')\n",
    "plt.ticklabel_format(axis='y', style='scientific', scilimits=(0,0))\n",
    "plt.xticks(fontsize = 14)\n",
    "plt.yticks(fontsize = 14)\n",
    "plt.show()\n"
   ]
  },
  {
   "cell_type": "code",
   "execution_count": 238,
   "metadata": {},
   "outputs": [
    {
     "name": "stdout",
     "output_type": "stream",
     "text": [
      "R2 score of prediction by EIA: 0.9880643976875678\n",
      "R2 score of my prediction: 0.9263754714381932\n"
     ]
    }
   ],
   "source": [
    "from sklearn.metrics import r2_score\n",
    "\n",
    "print('R2 score of prediction by EIA: {}'.format(r2_score(true_usage[:96], np.asarray(demand_forecast[:96])+1900)))\n",
    "print('R2 score of my prediction: {}'.format(r2_score(true_usage[:96], df_pred['prediction'].values[:96])))"
   ]
  },
  {
   "cell_type": "code",
   "execution_count": 175,
   "metadata": {},
   "outputs": [],
   "source": [
    "# Analyze the relation between demand, net generation and intertransfer.\n",
    "\n",
    "series_id = 'EBA.NW-ALL.NG.HL'\n",
    "net_gen = rq.get(\"http://api.eia.gov/series/?api_key={}&series_id={}&start={}&end={}\".format(key, series_id, true_start, true_end))\n",
    "net_gen = np.asarray(net_gen.json()['series'][0]['data'])[::-1,1]\n",
    "net_gen = [int(x) for x in net_gen]\n",
    "net_gen = net_gen[:96]\n",
    "\n",
    "diff = np.asarray(true_usage[:96])-np.asarray(net_gen)"
   ]
  },
  {
   "cell_type": "code",
   "execution_count": 190,
   "metadata": {},
   "outputs": [],
   "source": [
    "series_id = 'EBA.NW-ALL.NG.HL'\n",
    "net_gen = rq.get(\"http://api.eia.gov/series/?api_key={}&series_id={}&start={}&end={}\".format(key, series_id, true_start, true_end))\n",
    "net_gen = np.asarray(net_gen.json()['series'][0]['data'])[::-1,1]\n",
    "net_gen = [int(x) for x in net_gen]\n",
    "net_gen = net_gen[:96]\n",
    "diff = np.asarray(true_usage[:96])-np.asarray(net_gen)\n",
    "demand_forecast_diff = np.asarray(true_usage[:96]-np.asarray(demand_forecast[:96]))\n",
    "\n",
    "series_id = 'EBA.NW-ALL.TI.HL'\n",
    "tot_change = rq.get(\"http://api.eia.gov/series/?api_key={}&series_id={}&start={}&end={}\".format(key, series_id, true_start, true_end))\n",
    "tot_change = np.asarray(tot_change.json()['series'][0]['data'])[::-1,1]\n",
    "tot_change = [int(x) for x in tot_change]\n",
    "tot_change = np.asarray(tot_change[:96])*(-1)"
   ]
  },
  {
   "cell_type": "code",
   "execution_count": 228,
   "metadata": {},
   "outputs": [
    {
     "data": {
      "text/plain": [
       "43777.1725"
      ]
     },
     "execution_count": 228,
     "metadata": {},
     "output_type": "execute_result"
    }
   ],
   "source": [
    "# The total electricity transferred.\n",
    "np.sum(np.absolute(diff[48:96]))*0.005*114.25"
   ]
  },
  {
   "cell_type": "code",
   "execution_count": 229,
   "metadata": {},
   "outputs": [
    {
     "data": {
      "text/plain": [
       "216674439.5"
      ]
     },
     "execution_count": 229,
     "metadata": {},
     "output_type": "execute_result"
    }
   ],
   "source": [
    "np.sum(true_usage[48:96])*114.25"
   ]
  },
  {
   "cell_type": "code",
   "execution_count": 231,
   "metadata": {},
   "outputs": [
    {
     "data": {
      "image/png": "[encoded data removed]",
      "text/plain": [
       "<Figure size 864x360 with 1 Axes>"
      ]
     },
     "metadata": {
      "needs_background": "light"
     },
     "output_type": "display_data"
    }
   ],
   "source": [
    "fig,ax = plt.subplots(figsize=(12,5))\n",
    "\n",
    "plt.plot(true_usage[:96],'b')\n",
    "plt.plot(demand_forecast[:96],'r--')\n",
    "plt.plot(net_gen, 'y')\n",
    "plt.plot(diff)\n",
    "plt.plot(tot_change)\n",
    "# plt.plot(demand_forecast_diff)\n",
    "plt.legend(['True usage', 'Prediction by EIA', 'Net generation', 'Difference between demand and generation', 'Total interchange'])\n",
    "\n",
    "plt.xlabel('Date', fontsize=14)\n",
    "plt.ylabel('Megawatthours', fontsize=18)\n",
    "# plt.legend(['My Prediction', 'True usage', 'Forecast by EIA'])\n",
    "ax.xaxis.set_major_locator(MultipleLocator(24))\n",
    "ax.set_xticklabels(['', '', 'Oct.26', 'Oct.27', 'Oct.28'])\n",
    "plt.ylim([-10000,50000])\n",
    "plt.xlim([0,94])\n",
    "\n",
    "# Adjust the display style\n",
    "plt.tick_params(which = 'both',top=True,right=True,direction='in')\n",
    "plt.ticklabel_format(axis='y', style='scientific', scilimits=(0,0))\n",
    "plt.xticks(fontsize = 14)\n",
    "plt.yticks(fontsize = 14)\n",
    "plt.show()"
   ]
  },
  {
   "cell_type": "code",
   "execution_count": null,
   "metadata": {},
   "outputs": [],
   "source": [
    "plt.plot(net_gen)\n",
    "plt.plot(forecast)"
   ]
  },
  {
   "cell_type": "markdown",
   "metadata": {},
   "source": [
    "### Produce data for the database"
   ]
  },
  {
   "cell_type": "code",
   "execution_count": 61,
   "metadata": {},
   "outputs": [],
   "source": [
    "def fake_prediction(row):\n",
    "    if np.isnan(row['prediction']):\n",
    "        return (int(row['usage'])+int(row['net_gen']))/2\n",
    "    else:\n",
    "        return row['prediction']"
   ]
  },
  {
   "cell_type": "code",
   "execution_count": 62,
   "metadata": {},
   "outputs": [],
   "source": [
    "sample_for_app = df_for_periodic_model.loc[df_for_periodic_model['datetime'] < datetime(2019,10,18,0,30,0), ['datetime', 'usage','net_gen']]"
   ]
  },
  {
   "cell_type": "code",
   "execution_count": 63,
   "metadata": {},
   "outputs": [],
   "source": [
    "sample_for_app.loc[sample_for_app['datetime'] > datetime(2019,10,15,0,6,0),\"T_1\"] = houston_pred[-96:-24]\n",
    "sample_for_app.loc[sample_for_app['datetime'] > datetime(2019,10,15,0,6,0),\"T_2\"] = dallas_pred[-96:-24]\n",
    "sample_for_app.loc[sample_for_app['datetime'] > datetime(2019,10,15,0,6,0),\"T_3\"] = san_antonio_pred[-96:-24]\n",
    "\n",
    "\n",
    "sample_for_app.loc[sample_for_app['datetime'] > datetime(2019,10,14,0,4,0),\"prediction\"] = df_pred.loc[df_pred['datetime'] < datetime(2019,10,18,0,30,0),\"prediction\"].values\n",
    "sample_for_app['prediction'] = sample_for_app.apply(lambda row: fake_prediction(row), axis=1)\n",
    "\n",
    "sample_for_app['region'] = 'TEX'\n",
    "sample_for_app = sample_for_app.replace(np.nan, 0)\n",
    "\n",
    "sample_for_app['temperatures'] = sample_for_app.apply(lambda row: ',,'.join([str(t) for t in row[['T_1','T_2','T_3']].values]), axis=1)\n",
    "sample_for_app = sample_for_app[['datetime', 'usage', 'net_gen','temperatures','prediction','region']]"
   ]
  },
  {
   "cell_type": "code",
   "execution_count": 64,
   "metadata": {},
   "outputs": [
    {
     "data": {
      "text/html": [
       "<div>\n",
       "<style scoped>\n",
       "    .dataframe tbody tr th:only-of-type {\n",
       "        vertical-align: middle;\n",
       "    }\n",
       "\n",
       "    .dataframe tbody tr th {\n",
       "        vertical-align: top;\n",
       "    }\n",
       "\n",
       "    .dataframe thead th {\n",
       "        text-align: right;\n",
       "    }\n",
       "</style>\n",
       "<table border=\"1\" class=\"dataframe\">\n",
       "  <thead>\n",
       "    <tr style=\"text-align: right;\">\n",
       "      <th></th>\n",
       "      <th>datetime</th>\n",
       "      <th>usage</th>\n",
       "      <th>net_gen</th>\n",
       "      <th>temperatures</th>\n",
       "      <th>prediction</th>\n",
       "      <th>region</th>\n",
       "    </tr>\n",
       "  </thead>\n",
       "  <tbody>\n",
       "    <tr>\n",
       "      <td>166</td>\n",
       "      <td>2019-10-17 22:05:00</td>\n",
       "      <td>37207</td>\n",
       "      <td>37371</td>\n",
       "      <td>63.0,,63.0,,65.0</td>\n",
       "      <td>37919.576956</td>\n",
       "      <td>TEX</td>\n",
       "    </tr>\n",
       "    <tr>\n",
       "      <td>167</td>\n",
       "      <td>2019-10-17 23:05:00</td>\n",
       "      <td>34920</td>\n",
       "      <td>35103</td>\n",
       "      <td>62.0,,61.0,,64.0</td>\n",
       "      <td>35705.911197</td>\n",
       "      <td>TEX</td>\n",
       "    </tr>\n",
       "    <tr>\n",
       "      <td>168</td>\n",
       "      <td>2019-10-18 00:05:00</td>\n",
       "      <td>32534</td>\n",
       "      <td>32712</td>\n",
       "      <td>62.0,,59.0,,63.0</td>\n",
       "      <td>31961.122969</td>\n",
       "      <td>TEX</td>\n",
       "    </tr>\n",
       "  </tbody>\n",
       "</table>\n",
       "</div>"
      ],
      "text/plain": [
       "               datetime  usage  net_gen      temperatures    prediction region\n",
       "166 2019-10-17 22:05:00  37207    37371  63.0,,63.0,,65.0  37919.576956    TEX\n",
       "167 2019-10-17 23:05:00  34920    35103  62.0,,61.0,,64.0  35705.911197    TEX\n",
       "168 2019-10-18 00:05:00  32534    32712  62.0,,59.0,,63.0  31961.122969    TEX"
      ]
     },
     "execution_count": 64,
     "metadata": {},
     "output_type": "execute_result"
    }
   ],
   "source": [
    "sample_for_app.tail(3)"
   ]
  },
  {
   "cell_type": "code",
   "execution_count": 65,
   "metadata": {},
   "outputs": [],
   "source": [
    "from pymongo import MongoClient\n",
    "\n",
    "MONGODB_HOST = 'localhost'\n",
    "MONGODB_PORT = 27017\n",
    "DBS_NAME = 'donorschoose'\n",
    "COLLECTION_NAME = 'electricity_prediction'\n",
    "\n",
    "connection = MongoClient(MONGODB_HOST, MONGODB_PORT)\n",
    "collection = connection[DBS_NAME][COLLECTION_NAME]"
   ]
  },
  {
   "cell_type": "code",
   "execution_count": 66,
   "metadata": {},
   "outputs": [],
   "source": [
    "for ind, row in sample_for_app.iterrows():\n",
    "    collection.insert_one({'datetime':row['datetime'],\n",
    "                           'usage':int(row['usage']),\n",
    "                           'temperatures':row['temperatures'],\n",
    "                           'prediction':int(row['prediction']),\n",
    "                           'net_gen':int(row['net_gen']),\n",
    "                           'region':row['region']})"
   ]
  },
  {
   "cell_type": "code",
   "execution_count": 67,
   "metadata": {},
   "outputs": [],
   "source": [
    "# Get data for Northwest\n",
    "sample_for_app_NW = sample_for_app[['datetime']].copy()"
   ]
  },
  {
   "cell_type": "code",
   "execution_count": 68,
   "metadata": {},
   "outputs": [],
   "source": [
    "end = datetime(2019,10,18,0,5,0).strftime('%Y%m%dT%H-%M')\n",
    "start = datetime(2019,10,11,0,5,0).strftime('%Y%m%dT%H-%M')\n",
    "series_id = 'EBA.TEX-ALL.NG.HL'\n",
    "data = rq.get(\"http://api.eia.gov/series/?api_key={}&series_id={}&start={}&end={}\".format(key, series_id, start, end))\n",
    "series_id = 'EBA.TEX-ALL.D.HL'\n",
    "usage_data = rq.get(\"http://api.eia.gov/series/?api_key={}&series_id={}&start={}&end={}\".format(key, series_id, start, end))"
   ]
  },
  {
   "cell_type": "code",
   "execution_count": 69,
   "metadata": {},
   "outputs": [],
   "source": [
    "sample_for_app_NW['net_gen'] = np.asarray(data.json()['series'][0]['data'])[:,1]\n",
    "sample_for_app_NW['usage'] = np.asarray(usage_data.json()['series'][0]['data'])[:,1]"
   ]
  },
  {
   "cell_type": "code",
   "execution_count": 70,
   "metadata": {},
   "outputs": [
    {
     "data": {
      "text/plain": [
       "datetime    datetime64[ns]\n",
       "net_gen             object\n",
       "usage               object\n",
       "dtype: object"
      ]
     },
     "execution_count": 70,
     "metadata": {},
     "output_type": "execute_result"
    }
   ],
   "source": [
    "sample_for_app_NW.dtypes"
   ]
  },
  {
   "cell_type": "code",
   "execution_count": 71,
   "metadata": {},
   "outputs": [],
   "source": [
    "sample_for_app_NW.loc[sample_for_app_NW['datetime'] > datetime(2019,10,15,0,6,0),\"T_1\"] = houston_pred[-96:-24]\n",
    "sample_for_app_NW.loc[sample_for_app_NW['datetime'] > datetime(2019,10,15,0,6,0),\"T_2\"] = dallas_pred[-96:-24]\n",
    "sample_for_app_NW.loc[sample_for_app_NW['datetime'] > datetime(2019,10,15,0,6,0),\"T_3\"] = san_antonio_pred[-96:-24]\n",
    "\n",
    "sample_for_app_NW['region'] = 'NW'\n",
    "sample_for_app_NW = sample_for_app_NW.replace(np.nan, 0)\n",
    "sample_for_app_NW['prediction'] = [np.nan]*len(sample_for_app_NW)\n",
    "sample_for_app_NW['prediction'] = sample_for_app_NW.apply(lambda row: fake_prediction(row), axis=1)\n",
    "\n",
    "sample_for_app_NW['temperatures'] = sample_for_app_NW.apply(lambda row: ',,'.join([str(t) for t in row[['T_1','T_2','T_3']].values]), axis=1)\n",
    "sample_for_app_NW = sample_for_app_NW[['datetime', 'usage', 'net_gen','temperatures','prediction','region']]"
   ]
  },
  {
   "cell_type": "code",
   "execution_count": 75,
   "metadata": {},
   "outputs": [],
   "source": [
    "for ind, row in sample_for_app_NW.iterrows():\n",
    "    collection.insert_one({'datetime':row['datetime'],\n",
    "                           'usage':int(row['usage']),\n",
    "                           'temperatures':row['temperatures'],\n",
    "                           'prediction':int(row['prediction']),\n",
    "                           'net_gen':int(row['net_gen']),\n",
    "                           'region':row['region']})"
   ]
  },
  {
   "cell_type": "code",
   "execution_count": 73,
   "metadata": {},
   "outputs": [
    {
     "data": {
      "text/html": [
       "<div>\n",
       "<style scoped>\n",
       "    .dataframe tbody tr th:only-of-type {\n",
       "        vertical-align: middle;\n",
       "    }\n",
       "\n",
       "    .dataframe tbody tr th {\n",
       "        vertical-align: top;\n",
       "    }\n",
       "\n",
       "    .dataframe thead th {\n",
       "        text-align: right;\n",
       "    }\n",
       "</style>\n",
       "<table border=\"1\" class=\"dataframe\">\n",
       "  <thead>\n",
       "    <tr style=\"text-align: right;\">\n",
       "      <th></th>\n",
       "      <th>datetime</th>\n",
       "      <th>usage</th>\n",
       "      <th>net_gen</th>\n",
       "      <th>temperatures</th>\n",
       "      <th>prediction</th>\n",
       "      <th>region</th>\n",
       "    </tr>\n",
       "  </thead>\n",
       "  <tbody>\n",
       "    <tr>\n",
       "      <td>0</td>\n",
       "      <td>2019-10-11 00:05:00</td>\n",
       "      <td>32534</td>\n",
       "      <td>32712</td>\n",
       "      <td>0.0,,0.0,,0.0</td>\n",
       "      <td>32623.0</td>\n",
       "      <td>NW</td>\n",
       "    </tr>\n",
       "  </tbody>\n",
       "</table>\n",
       "</div>"
      ],
      "text/plain": [
       "             datetime  usage net_gen   temperatures  prediction region\n",
       "0 2019-10-11 00:05:00  32534   32712  0.0,,0.0,,0.0     32623.0     NW"
      ]
     },
     "execution_count": 73,
     "metadata": {},
     "output_type": "execute_result"
    }
   ],
   "source": [
    "sample_for_app_NW.head(1)"
   ]
  },
  {
   "cell_type": "code",
   "execution_count": 74,
   "metadata": {},
   "outputs": [
    {
     "data": {
      "text/html": [
       "<div>\n",
       "<style scoped>\n",
       "    .dataframe tbody tr th:only-of-type {\n",
       "        vertical-align: middle;\n",
       "    }\n",
       "\n",
       "    .dataframe tbody tr th {\n",
       "        vertical-align: top;\n",
       "    }\n",
       "\n",
       "    .dataframe thead th {\n",
       "        text-align: right;\n",
       "    }\n",
       "</style>\n",
       "<table border=\"1\" class=\"dataframe\">\n",
       "  <thead>\n",
       "    <tr style=\"text-align: right;\">\n",
       "      <th></th>\n",
       "      <th>datetime</th>\n",
       "      <th>usage</th>\n",
       "      <th>net_gen</th>\n",
       "      <th>temperatures</th>\n",
       "      <th>prediction</th>\n",
       "      <th>region</th>\n",
       "    </tr>\n",
       "  </thead>\n",
       "  <tbody>\n",
       "    <tr>\n",
       "      <td>0</td>\n",
       "      <td>2019-10-11 00:05:00</td>\n",
       "      <td>32534</td>\n",
       "      <td>32712</td>\n",
       "      <td>0.0,,0.0,,0.0</td>\n",
       "      <td>32623.0</td>\n",
       "      <td>NW</td>\n",
       "    </tr>\n",
       "    <tr>\n",
       "      <td>1</td>\n",
       "      <td>2019-10-11 01:05:00</td>\n",
       "      <td>34920</td>\n",
       "      <td>35103</td>\n",
       "      <td>0.0,,0.0,,0.0</td>\n",
       "      <td>35011.5</td>\n",
       "      <td>NW</td>\n",
       "    </tr>\n",
       "    <tr>\n",
       "      <td>2</td>\n",
       "      <td>2019-10-11 02:05:00</td>\n",
       "      <td>37207</td>\n",
       "      <td>37371</td>\n",
       "      <td>0.0,,0.0,,0.0</td>\n",
       "      <td>37289.0</td>\n",
       "      <td>NW</td>\n",
       "    </tr>\n",
       "    <tr>\n",
       "      <td>3</td>\n",
       "      <td>2019-10-11 03:05:00</td>\n",
       "      <td>38714</td>\n",
       "      <td>38897</td>\n",
       "      <td>0.0,,0.0,,0.0</td>\n",
       "      <td>38805.5</td>\n",
       "      <td>NW</td>\n",
       "    </tr>\n",
       "    <tr>\n",
       "      <td>4</td>\n",
       "      <td>2019-10-11 04:05:00</td>\n",
       "      <td>39046</td>\n",
       "      <td>39225</td>\n",
       "      <td>0.0,,0.0,,0.0</td>\n",
       "      <td>39135.5</td>\n",
       "      <td>NW</td>\n",
       "    </tr>\n",
       "    <tr>\n",
       "      <td>...</td>\n",
       "      <td>...</td>\n",
       "      <td>...</td>\n",
       "      <td>...</td>\n",
       "      <td>...</td>\n",
       "      <td>...</td>\n",
       "      <td>...</td>\n",
       "    </tr>\n",
       "    <tr>\n",
       "      <td>164</td>\n",
       "      <td>2019-10-17 20:05:00</td>\n",
       "      <td>36132</td>\n",
       "      <td>35915</td>\n",
       "      <td>65.0,,67.0,,68.0</td>\n",
       "      <td>36023.5</td>\n",
       "      <td>NW</td>\n",
       "    </tr>\n",
       "    <tr>\n",
       "      <td>165</td>\n",
       "      <td>2019-10-17 21:05:00</td>\n",
       "      <td>37148</td>\n",
       "      <td>36931</td>\n",
       "      <td>65.0,,65.0,,67.0</td>\n",
       "      <td>37039.5</td>\n",
       "      <td>NW</td>\n",
       "    </tr>\n",
       "    <tr>\n",
       "      <td>166</td>\n",
       "      <td>2019-10-17 22:05:00</td>\n",
       "      <td>38687</td>\n",
       "      <td>38475</td>\n",
       "      <td>63.0,,63.0,,65.0</td>\n",
       "      <td>38581.0</td>\n",
       "      <td>NW</td>\n",
       "    </tr>\n",
       "    <tr>\n",
       "      <td>167</td>\n",
       "      <td>2019-10-17 23:05:00</td>\n",
       "      <td>40775</td>\n",
       "      <td>40703</td>\n",
       "      <td>62.0,,61.0,,64.0</td>\n",
       "      <td>40739.0</td>\n",
       "      <td>NW</td>\n",
       "    </tr>\n",
       "    <tr>\n",
       "      <td>168</td>\n",
       "      <td>2019-10-18 00:05:00</td>\n",
       "      <td>43833</td>\n",
       "      <td>43796</td>\n",
       "      <td>62.0,,59.0,,63.0</td>\n",
       "      <td>43814.5</td>\n",
       "      <td>NW</td>\n",
       "    </tr>\n",
       "  </tbody>\n",
       "</table>\n",
       "<p>169 rows × 6 columns</p>\n",
       "</div>"
      ],
      "text/plain": [
       "               datetime  usage net_gen      temperatures  prediction region\n",
       "0   2019-10-11 00:05:00  32534   32712     0.0,,0.0,,0.0     32623.0     NW\n",
       "1   2019-10-11 01:05:00  34920   35103     0.0,,0.0,,0.0     35011.5     NW\n",
       "2   2019-10-11 02:05:00  37207   37371     0.0,,0.0,,0.0     37289.0     NW\n",
       "3   2019-10-11 03:05:00  38714   38897     0.0,,0.0,,0.0     38805.5     NW\n",
       "4   2019-10-11 04:05:00  39046   39225     0.0,,0.0,,0.0     39135.5     NW\n",
       "..                  ...    ...     ...               ...         ...    ...\n",
       "164 2019-10-17 20:05:00  36132   35915  65.0,,67.0,,68.0     36023.5     NW\n",
       "165 2019-10-17 21:05:00  37148   36931  65.0,,65.0,,67.0     37039.5     NW\n",
       "166 2019-10-17 22:05:00  38687   38475  63.0,,63.0,,65.0     38581.0     NW\n",
       "167 2019-10-17 23:05:00  40775   40703  62.0,,61.0,,64.0     40739.0     NW\n",
       "168 2019-10-18 00:05:00  43833   43796  62.0,,59.0,,63.0     43814.5     NW\n",
       "\n",
       "[169 rows x 6 columns]"
      ]
     },
     "execution_count": 74,
     "metadata": {},
     "output_type": "execute_result"
    }
   ],
   "source": [
    "sample_for_app_NW"
   ]
  },
  {
   "cell_type": "code",
   "execution_count": null,
   "metadata": {},
   "outputs": [],
   "source": []
  }
 ],
 "metadata": {
  "kernelspec": {
   "display_name": "Python 3",
   "language": "python",
   "name": "python3"
  },
  "language_info": {
   "codemirror_mode": {
    "name": "ipython",
    "version": 3
   },
   "file_extension": ".py",
   "mimetype": "text/x-python",
   "name": "python",
   "nbconvert_exporter": "python",
   "pygments_lexer": "ipython3",
   "version": "3.5.2"
  }
 },
 "nbformat": 4,
 "nbformat_minor": 2
}
