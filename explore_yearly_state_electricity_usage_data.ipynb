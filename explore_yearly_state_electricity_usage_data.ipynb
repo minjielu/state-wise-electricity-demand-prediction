{
 "cells": [
  {
   "cell_type": "markdown",
   "metadata": {},
   "source": [
    "## Plot statewise categoricwise data"
   ]
  },
  {
   "cell_type": "code",
   "execution_count": 1,
   "metadata": {},
   "outputs": [],
   "source": [
    "import pandas as pd\n",
    "import numpy as np\n",
    "import matplotlib.pyplot as plt\n",
    "import seaborn as sns\n",
    "\n",
    "%matplotlib inline"
   ]
  },
  {
   "cell_type": "code",
   "execution_count": 22,
   "metadata": {},
   "outputs": [
    {
     "data": {
      "text/html": [
       "<div>\n",
       "<style scoped>\n",
       "    .dataframe tbody tr th:only-of-type {\n",
       "        vertical-align: middle;\n",
       "    }\n",
       "\n",
       "    .dataframe tbody tr th {\n",
       "        vertical-align: top;\n",
       "    }\n",
       "\n",
       "    .dataframe thead th {\n",
       "        text-align: right;\n",
       "    }\n",
       "</style>\n",
       "<table border=\"1\" class=\"dataframe\">\n",
       "  <thead>\n",
       "    <tr style=\"text-align: right;\">\n",
       "      <th></th>\n",
       "      <th>Year</th>\n",
       "      <th>State</th>\n",
       "      <th>Industry Sector Category</th>\n",
       "      <th>Residential</th>\n",
       "      <th>Commercial</th>\n",
       "      <th>Industrial</th>\n",
       "      <th>Transportation</th>\n",
       "      <th>Other</th>\n",
       "      <th>Total</th>\n",
       "    </tr>\n",
       "  </thead>\n",
       "  <tbody>\n",
       "    <tr>\n",
       "      <th>0</th>\n",
       "      <td>2017</td>\n",
       "      <td>AK</td>\n",
       "      <td>Total Electric Industry</td>\n",
       "      <td>2060349</td>\n",
       "      <td>2704890</td>\n",
       "      <td>1420560</td>\n",
       "      <td>0.0</td>\n",
       "      <td>NaN</td>\n",
       "      <td>6185799</td>\n",
       "    </tr>\n",
       "  </tbody>\n",
       "</table>\n",
       "</div>"
      ],
      "text/plain": [
       "   Year State Industry Sector Category  Residential  Commercial  Industrial  \\\n",
       "0  2017    AK  Total Electric Industry      2060349     2704890     1420560   \n",
       "\n",
       "   Transportation  Other    Total  \n",
       "0             0.0    NaN  6185799  "
      ]
     },
     "execution_count": 22,
     "metadata": {},
     "output_type": "execute_result"
    }
   ],
   "source": [
    "df_elec_monthly = pd.read_excel('electricity_data/sales_annual.xlsx',header=1)\n",
    "df_elec_monthly.head(1)"
   ]
  },
  {
   "cell_type": "code",
   "execution_count": 23,
   "metadata": {},
   "outputs": [
    {
     "name": "stdout",
     "output_type": "stream",
     "text": [
      "Full-Service Providers: 676, Energy-Only Providers: 105\n",
      "There are some states that certain kind of providers is only serving the other\n"
     ]
    }
   ],
   "source": [
    "# Check whether others are only provided by the full-service providers or the energy-only providers.\n",
    "print('Full-Service Providers: {}'.format(sum((df_elec_monthly['Industry Sector Category'] == 'Full-Service Providers') & (df_elec_monthly['Other'].notna()))), end=', ')\n",
    "print('Energy-Only Providers: {}'.format(sum((df_elec_monthly['Industry Sector Category'] == 'Energy-Only Providers') & (df_elec_monthly['Other'].notna()))))\n",
    "print('There are some states that certain kind of providers is only serving the other')"
   ]
  },
  {
   "cell_type": "code",
   "execution_count": 24,
   "metadata": {},
   "outputs": [],
   "source": [
    "# Keep only the rows of 'Total Electric Industry'.\n",
    "df_elec_monthly = df_elec_monthly.loc[df_elec_monthly['Industry Sector Category'] == 'Total Electric Industry',:]"
   ]
  },
  {
   "cell_type": "code",
   "execution_count": 25,
   "metadata": {},
   "outputs": [
    {
     "name": "stdout",
     "output_type": "stream",
     "text": [
      "Whether I need to care about the other\n",
      "676\n"
     ]
    }
   ],
   "source": [
    "print('Whether I need to care about the other')\n",
    "print(sum(df_elec_monthly['Other'].notna()))"
   ]
  },
  {
   "cell_type": "code",
   "execution_count": 26,
   "metadata": {},
   "outputs": [],
   "source": [
    "def ratio_other(row):\n",
    "    if np.isnan(row['Other']):\n",
    "        return 0\n",
    "    else:\n",
    "        return row['Other']/row['Total']\n",
    "    \n",
    "df_elec_monthly['Ratio_other'] = df_elec_monthly[['Other','Total']].apply(lambda row: ratio_other(row), axis=1)"
   ]
  },
  {
   "cell_type": "code",
   "execution_count": 27,
   "metadata": {},
   "outputs": [
    {
     "name": "stdout",
     "output_type": "stream",
     "text": [
      "Max ratio for other: 0.1097640526010866\n"
     ]
    }
   ],
   "source": [
    "print('Max ratio for other: {}'.format(df_elec_monthly['Ratio_other'].max()))"
   ]
  },
  {
   "cell_type": "code",
   "execution_count": 28,
   "metadata": {},
   "outputs": [],
   "source": [
    "states = df_elec_monthly['State'].unique()"
   ]
  },
  {
   "cell_type": "code",
   "execution_count": 29,
   "metadata": {},
   "outputs": [],
   "source": [
    "def assign_size(x):\n",
    "    return 'g'"
   ]
  },
  {
   "cell_type": "code",
   "execution_count": 53,
   "metadata": {},
   "outputs": [
    {
     "data": {
      "image/png": "[encoded data removed]",
      "text/plain": [
       "<Figure size 864x288 with 1 Axes>"
      ]
     },
     "metadata": {
      "needs_background": "light"
     },
     "output_type": "display_data"
    }
   ],
   "source": [
    "for ind, state in enumerate(states):\n",
    "    df_state = df_elec_monthly[df_elec_monthly['State'] == 'TX']\n",
    "    df_residential = df_state.loc[:,['Year', 'Residential']]\n",
    "    df_residential.columns = ['Year', 'Sales']\n",
    "    df_residential['Category'] = 'Residential'\n",
    "    df_commercial = df_state.loc[:,['Year', 'Commercial']]\n",
    "    df_commercial.columns = ['Year', 'Sales']\n",
    "    df_commercial['Category'] = 'Commercial'\n",
    "    df_industrial = df_state.loc[:,['Year', 'Industrial']]\n",
    "    df_industrial.columns = ['Year', 'Sales']\n",
    "    df_industrial['Category'] = 'Industrial'\n",
    "    '''\n",
    "    df_total = df_state.loc[:,['Year', 'Total']]\n",
    "    df_total.columns = ['Year', 'Sales']\n",
    "    df_total['Category'] = 'Total'\n",
    "    '''\n",
    "    df_state = df_residential.append(df_commercial).append(df_industrial)#.append(df_total)\n",
    "    df_state['size'] = df_state['Category'].apply(lambda x: assign_size(x))\n",
    "    plt.figure(figsize=(12, 4))\n",
    "    ax = sns.lineplot(x=\"Year\", y=\"Sales\", hue=\"Category\", linewidth=3, sizes=(3,3), data=df_state)\n",
    "    ax.set_ylabel('Electricity Demand(Meggawatthours)')\n",
    "    break"
   ]
  },
  {
   "cell_type": "code",
   "execution_count": 37,
   "metadata": {},
   "outputs": [
    {
     "data": {
      "text/html": [
       "<div>\n",
       "<style scoped>\n",
       "    .dataframe tbody tr th:only-of-type {\n",
       "        vertical-align: middle;\n",
       "    }\n",
       "\n",
       "    .dataframe tbody tr th {\n",
       "        vertical-align: top;\n",
       "    }\n",
       "\n",
       "    .dataframe thead th {\n",
       "        text-align: right;\n",
       "    }\n",
       "</style>\n",
       "<table border=\"1\" class=\"dataframe\">\n",
       "  <thead>\n",
       "    <tr style=\"text-align: right;\">\n",
       "      <th></th>\n",
       "      <th>Category</th>\n",
       "      <th>Electricity Sales</th>\n",
       "      <th>Sales</th>\n",
       "      <th>Year</th>\n",
       "    </tr>\n",
       "  </thead>\n",
       "  <tbody>\n",
       "    <tr>\n",
       "      <th>4</th>\n",
       "      <td>Residential</td>\n",
       "      <td>NaN</td>\n",
       "      <td>90123505.0</td>\n",
       "      <td>2017</td>\n",
       "    </tr>\n",
       "    <tr>\n",
       "      <th>129</th>\n",
       "      <td>Residential</td>\n",
       "      <td>NaN</td>\n",
       "      <td>88311069.0</td>\n",
       "      <td>2016</td>\n",
       "    </tr>\n",
       "    <tr>\n",
       "      <th>254</th>\n",
       "      <td>Residential</td>\n",
       "      <td>NaN</td>\n",
       "      <td>89386373.0</td>\n",
       "      <td>2015</td>\n",
       "    </tr>\n",
       "    <tr>\n",
       "      <th>379</th>\n",
       "      <td>Residential</td>\n",
       "      <td>NaN</td>\n",
       "      <td>89360680.0</td>\n",
       "      <td>2014</td>\n",
       "    </tr>\n",
       "    <tr>\n",
       "      <th>504</th>\n",
       "      <td>Residential</td>\n",
       "      <td>NaN</td>\n",
       "      <td>89241934.0</td>\n",
       "      <td>2013</td>\n",
       "    </tr>\n",
       "    <tr>\n",
       "      <th>628</th>\n",
       "      <td>Residential</td>\n",
       "      <td>NaN</td>\n",
       "      <td>90109995.0</td>\n",
       "      <td>2012</td>\n",
       "    </tr>\n",
       "    <tr>\n",
       "      <th>752</th>\n",
       "      <td>Residential</td>\n",
       "      <td>NaN</td>\n",
       "      <td>88398416.0</td>\n",
       "      <td>2011</td>\n",
       "    </tr>\n",
       "    <tr>\n",
       "      <th>876</th>\n",
       "      <td>Residential</td>\n",
       "      <td>NaN</td>\n",
       "      <td>87256946.0</td>\n",
       "      <td>2010</td>\n",
       "    </tr>\n",
       "    <tr>\n",
       "      <th>1001</th>\n",
       "      <td>Residential</td>\n",
       "      <td>NaN</td>\n",
       "      <td>89798789.0</td>\n",
       "      <td>2009</td>\n",
       "    </tr>\n",
       "    <tr>\n",
       "      <th>1127</th>\n",
       "      <td>Residential</td>\n",
       "      <td>NaN</td>\n",
       "      <td>91230818.0</td>\n",
       "      <td>2008</td>\n",
       "    </tr>\n",
       "    <tr>\n",
       "      <th>1253</th>\n",
       "      <td>Residential</td>\n",
       "      <td>NaN</td>\n",
       "      <td>89158461.0</td>\n",
       "      <td>2007</td>\n",
       "    </tr>\n",
       "    <tr>\n",
       "      <th>1378</th>\n",
       "      <td>Residential</td>\n",
       "      <td>NaN</td>\n",
       "      <td>89835749.0</td>\n",
       "      <td>2006</td>\n",
       "    </tr>\n",
       "    <tr>\n",
       "      <th>1503</th>\n",
       "      <td>Residential</td>\n",
       "      <td>NaN</td>\n",
       "      <td>85610410.0</td>\n",
       "      <td>2005</td>\n",
       "    </tr>\n",
       "    <tr>\n",
       "      <th>1628</th>\n",
       "      <td>Residential</td>\n",
       "      <td>NaN</td>\n",
       "      <td>83361251.0</td>\n",
       "      <td>2004</td>\n",
       "    </tr>\n",
       "    <tr>\n",
       "      <th>1754</th>\n",
       "      <td>Residential</td>\n",
       "      <td>NaN</td>\n",
       "      <td>82925899.0</td>\n",
       "      <td>2003</td>\n",
       "    </tr>\n",
       "    <tr>\n",
       "      <th>1877</th>\n",
       "      <td>Residential</td>\n",
       "      <td>NaN</td>\n",
       "      <td>77202300.0</td>\n",
       "      <td>2002</td>\n",
       "    </tr>\n",
       "    <tr>\n",
       "      <th>2000</th>\n",
       "      <td>Residential</td>\n",
       "      <td>NaN</td>\n",
       "      <td>76667632.0</td>\n",
       "      <td>2001</td>\n",
       "    </tr>\n",
       "    <tr>\n",
       "      <th>2124</th>\n",
       "      <td>Residential</td>\n",
       "      <td>NaN</td>\n",
       "      <td>79240641.0</td>\n",
       "      <td>2000</td>\n",
       "    </tr>\n",
       "    <tr>\n",
       "      <th>2246</th>\n",
       "      <td>Residential</td>\n",
       "      <td>NaN</td>\n",
       "      <td>75303200.0</td>\n",
       "      <td>1999</td>\n",
       "    </tr>\n",
       "    <tr>\n",
       "      <th>2368</th>\n",
       "      <td>Residential</td>\n",
       "      <td>NaN</td>\n",
       "      <td>75205482.0</td>\n",
       "      <td>1998</td>\n",
       "    </tr>\n",
       "    <tr>\n",
       "      <th>2484</th>\n",
       "      <td>Residential</td>\n",
       "      <td>NaN</td>\n",
       "      <td>73086272.0</td>\n",
       "      <td>1997</td>\n",
       "    </tr>\n",
       "    <tr>\n",
       "      <th>2600</th>\n",
       "      <td>Residential</td>\n",
       "      <td>NaN</td>\n",
       "      <td>71396104.0</td>\n",
       "      <td>1996</td>\n",
       "    </tr>\n",
       "    <tr>\n",
       "      <th>2710</th>\n",
       "      <td>Residential</td>\n",
       "      <td>NaN</td>\n",
       "      <td>68782855.0</td>\n",
       "      <td>1995</td>\n",
       "    </tr>\n",
       "    <tr>\n",
       "      <th>2814</th>\n",
       "      <td>Residential</td>\n",
       "      <td>NaN</td>\n",
       "      <td>68866355.0</td>\n",
       "      <td>1994</td>\n",
       "    </tr>\n",
       "    <tr>\n",
       "      <th>2918</th>\n",
       "      <td>Residential</td>\n",
       "      <td>NaN</td>\n",
       "      <td>67358692.0</td>\n",
       "      <td>1993</td>\n",
       "    </tr>\n",
       "    <tr>\n",
       "      <th>3022</th>\n",
       "      <td>Residential</td>\n",
       "      <td>NaN</td>\n",
       "      <td>68121106.0</td>\n",
       "      <td>1992</td>\n",
       "    </tr>\n",
       "    <tr>\n",
       "      <th>3126</th>\n",
       "      <td>Residential</td>\n",
       "      <td>NaN</td>\n",
       "      <td>66016700.0</td>\n",
       "      <td>1991</td>\n",
       "    </tr>\n",
       "    <tr>\n",
       "      <th>3230</th>\n",
       "      <td>Residential</td>\n",
       "      <td>NaN</td>\n",
       "      <td>66574670.0</td>\n",
       "      <td>1990</td>\n",
       "    </tr>\n",
       "  </tbody>\n",
       "</table>\n",
       "</div>"
      ],
      "text/plain": [
       "         Category  Electricity Sales       Sales  Year\n",
       "4     Residential                NaN  90123505.0  2017\n",
       "129   Residential                NaN  88311069.0  2016\n",
       "254   Residential                NaN  89386373.0  2015\n",
       "379   Residential                NaN  89360680.0  2014\n",
       "504   Residential                NaN  89241934.0  2013\n",
       "628   Residential                NaN  90109995.0  2012\n",
       "752   Residential                NaN  88398416.0  2011\n",
       "876   Residential                NaN  87256946.0  2010\n",
       "1001  Residential                NaN  89798789.0  2009\n",
       "1127  Residential                NaN  91230818.0  2008\n",
       "1253  Residential                NaN  89158461.0  2007\n",
       "1378  Residential                NaN  89835749.0  2006\n",
       "1503  Residential                NaN  85610410.0  2005\n",
       "1628  Residential                NaN  83361251.0  2004\n",
       "1754  Residential                NaN  82925899.0  2003\n",
       "1877  Residential                NaN  77202300.0  2002\n",
       "2000  Residential                NaN  76667632.0  2001\n",
       "2124  Residential                NaN  79240641.0  2000\n",
       "2246  Residential                NaN  75303200.0  1999\n",
       "2368  Residential                NaN  75205482.0  1998\n",
       "2484  Residential                NaN  73086272.0  1997\n",
       "2600  Residential                NaN  71396104.0  1996\n",
       "2710  Residential                NaN  68782855.0  1995\n",
       "2814  Residential                NaN  68866355.0  1994\n",
       "2918  Residential                NaN  67358692.0  1993\n",
       "3022  Residential                NaN  68121106.0  1992\n",
       "3126  Residential                NaN  66016700.0  1991\n",
       "3230  Residential                NaN  66574670.0  1990"
      ]
     },
     "execution_count": 37,
     "metadata": {},
     "output_type": "execute_result"
    }
   ],
   "source": [
    "df_state[df_state['Category'] == 'Residential']"
   ]
  },
  {
   "cell_type": "markdown",
   "metadata": {},
   "source": [
    "__It's obvious that for some states，some consumers are switched from commercial to industrial or vice versa suddenly. Use TN as an example__"
   ]
  },
  {
   "cell_type": "code",
   "execution_count": 31,
   "metadata": {},
   "outputs": [],
   "source": [
    "df_state = df_elec_monthly[df_elec_monthly['State'] == 'TN']\n",
    "usages = df_state[['Year', 'Residential', 'Commercial', 'Industrial']].values"
   ]
  },
  {
   "cell_type": "code",
   "execution_count": 60,
   "metadata": {},
   "outputs": [
    {
     "data": {
      "image/png": "[encoded data removed]",
      "text/plain": [
       "<Figure size 432x288 with 1 Axes>"
      ]
     },
     "metadata": {
      "needs_background": "light"
     },
     "output_type": "display_data"
    }
   ],
   "source": [
    "year = usages[:-1,0]\n",
    "residential = usages[:,1]\n",
    "commercial = usages[:,2]\n",
    "industrial = usages[:,3]\n",
    "# First order differences\n",
    "diff_residential = np.diff(residential)\n",
    "diff_commercial = -np.diff(commercial) # The commercial one is inversed to be compared to the industrial one.\n",
    "diff_industrial = np.diff(industrial)\n",
    "\n",
    "# plots\n",
    "plt.plot(year, diff_residential)\n",
    "plt.plot(year, diff_commercial)\n",
    "plt.plot(year, diff_industrial)\n",
    "plt.legend([\"residential\", \"commercial\", \"industrial\"])\n",
    "plt.show()"
   ]
  },
  {
   "cell_type": "code",
   "execution_count": 61,
   "metadata": {},
   "outputs": [
    {
     "name": "stdout",
     "output_type": "stream",
     "text": [
      "Outliers: [ 4 20 25]\n"
     ]
    }
   ],
   "source": [
    "# So if a sudden change is an outlier and commercial and industrial changes by a similar value but in different direction.\n",
    "# Then we exchange them back.\n",
    "# if either diff_industrial or diff_commercial indicates an outlier, then we take it as an outlier.\n",
    "quantiles_industrial = np.percentile(diff_industrial, [25,75])\n",
    "in_q = quantiles_industrial[0]\n",
    "in_3q = quantiles_industrial[1]\n",
    "quantiles_commercial = np.percentile(diff_commercial, [25,75])\n",
    "co_q = quantiles_commercial[0]\n",
    "co_3q = quantiles_commercial[1]\n",
    "in_upper = in_3q+3*(in_3q-in_q)\n",
    "in_lower = in_q-3*(in_3q-in_q)\n",
    "co_upper = co_3q+3*(co_3q-co_q)\n",
    "co_lower = co_q-3*(co_3q-co_q)\n",
    "\n",
    "outliers = np.where(((diff_industrial > in_upper) | (diff_industrial < in_lower)) \\\n",
    "         & ((diff_commercial > co_upper) | (diff_commercial < co_lower)) \\\n",
    "        & (np.absolute((diff_industrial-diff_commercial)/np.minimum(diff_industrial, diff_commercial)) < 0.15))[0]\n",
    "\n",
    "print('Outliers: {}'.format(outliers))"
   ]
  },
  {
   "cell_type": "code",
   "execution_count": 62,
   "metadata": {},
   "outputs": [],
   "source": [
    "outliers = outliers.astype('int')\n",
    "\n",
    "for index in outliers:\n",
    "    industrial[index+1:] = industrial[index+1:]-(industrial[index+1]-industrial[index])\n",
    "    commercial[index+1:] = commercial[index+1:]-(commercial[index+1]-commercial[index])"
   ]
  },
  {
   "cell_type": "code",
   "execution_count": 63,
   "metadata": {},
   "outputs": [
    {
     "data": {
      "image/png": "[encoded data removed]",
      "text/plain": [
       "<Figure size 432x288 with 1 Axes>"
      ]
     },
     "metadata": {
      "needs_background": "light"
     },
     "output_type": "display_data"
    }
   ],
   "source": [
    "year = usages[:,0]\n",
    "# plots\n",
    "plt.plot(year, residential)\n",
    "plt.plot(year, commercial)\n",
    "plt.plot(year, industrial)\n",
    "plt.legend([\"residential\", \"commercial\", \"industrial\"])\n",
    "plt.show()"
   ]
  },
  {
   "cell_type": "markdown",
   "metadata": {},
   "source": [
    "__Anyway, if it is the case that commercial and industrial are exchanged, the total should be stable.__"
   ]
  },
  {
   "cell_type": "code",
   "execution_count": null,
   "metadata": {},
   "outputs": [],
   "source": []
  }
 ],
 "metadata": {
  "kernelspec": {
   "display_name": "Python 3",
   "language": "python",
   "name": "python3"
  },
  "language_info": {
   "codemirror_mode": {
    "name": "ipython",
    "version": 3
   },
   "file_extension": ".py",
   "mimetype": "text/x-python",
   "name": "python",
   "nbconvert_exporter": "python",
   "pygments_lexer": "ipython3",
   "version": "3.5.2"
  }
 },
 "nbformat": 4,
 "nbformat_minor": 2
}
